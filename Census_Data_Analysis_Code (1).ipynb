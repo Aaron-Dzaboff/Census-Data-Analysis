{
  "nbformat": 4,
  "nbformat_minor": 0,
  "metadata": {
    "colab": {
      "name": "Census Data Analysis Code",
      "provenance": [],
      "collapsed_sections": []
    },
    "kernelspec": {
      "name": "python3",
      "display_name": "Python 3"
    }
  },
  "cells": [
    {
      "cell_type": "code",
      "metadata": {
        "colab": {
          "base_uri": "https://localhost:8080/"
        },
        "id": "KGO86MuAXEj1",
        "outputId": "9cef996e-0fe5-4188-fe2a-61700adcb867"
      },
      "source": [
        "#Reading in the data\n",
        "!wget https://archive.ics.uci.edu/ml/machine-learning-databases/census1990-mld/USCensus1990.data.txt"
      ],
      "execution_count": null,
      "outputs": [
        {
          "output_type": "stream",
          "text": [
            "--2020-12-14 15:17:46--  https://archive.ics.uci.edu/ml/machine-learning-databases/census1990-mld/USCensus1990.data.txt\n",
            "Resolving archive.ics.uci.edu (archive.ics.uci.edu)... 128.195.10.252\n",
            "Connecting to archive.ics.uci.edu (archive.ics.uci.edu)|128.195.10.252|:443... connected.\n",
            "HTTP request sent, awaiting response... 200 OK\n",
            "Length: 361344227 (345M) [application/x-httpd-php]\n",
            "Saving to: ‘USCensus1990.data.txt.1’\n",
            "\n",
            "USCensus1990.data.t 100%[===================>] 344.60M  55.0MB/s    in 6.6s    \n",
            "\n",
            "2020-12-14 15:17:53 (51.8 MB/s) - ‘USCensus1990.data.txt.1’ saved [361344227/361344227]\n",
            "\n"
          ],
          "name": "stdout"
        }
      ]
    },
    {
      "cell_type": "code",
      "metadata": {
        "colab": {
          "base_uri": "https://localhost:8080/"
        },
        "id": "rX7iXcPmXSUq",
        "outputId": "fab6c745-df77-4a7f-e9f9-1f5d761937f3"
      },
      "source": [
        "!ls"
      ],
      "execution_count": null,
      "outputs": [
        {
          "output_type": "stream",
          "text": [
            "sample_data\t\t       USCensus1990.data.txt\n",
            "spark-2.4.7-bin-hadoop2.7      USCensus1990.data.txt.1\n",
            "spark-2.4.7-bin-hadoop2.7.tgz\n"
          ],
          "name": "stdout"
        }
      ]
    },
    {
      "cell_type": "code",
      "metadata": {
        "id": "Auh7B7DN1mO6"
      },
      "source": [
        "!apt-get install openjdk-8-jdk-headless -qq > /dev/null\n",
        "!wget -q https://www-us.apache.org/dist/spark/spark-2.4.7/spark-2.4.7-bin-hadoop2.7.tgz\n",
        "!tar xf spark-2.4.7-bin-hadoop2.7.tgz\n",
        "!pip install -q findspark\n",
        "\n",
        "import os\n",
        "os.environ[\"JAVA_HOME\"] = \"/usr/lib/jvm/java-8-openjdk-amd64\"\n",
        "os.environ[\"SPARK_HOME\"] = \"/content/spark-2.4.7-bin-hadoop2.7\"\n",
        "\n",
        "import findspark\n",
        "findspark.init()"
      ],
      "execution_count": null,
      "outputs": []
    },
    {
      "cell_type": "code",
      "metadata": {
        "id": "8M3NGN1X1qZm"
      },
      "source": [
        "from pyspark.sql import SparkSession\n",
        "spark = SparkSession.builder.appName('USCensus').getOrCreate()"
      ],
      "execution_count": null,
      "outputs": []
    },
    {
      "cell_type": "code",
      "metadata": {
        "id": "mp8BtbMz1uRo"
      },
      "source": [
        "df = spark.read.csv('USCensus1990.data.txt', header=True, inferSchema=False)"
      ],
      "execution_count": null,
      "outputs": []
    },
    {
      "cell_type": "code",
      "metadata": {
        "colab": {
          "base_uri": "https://localhost:8080/"
        },
        "id": "Ur4yUlDH1zUK",
        "outputId": "77c9ca50-a7b3-402a-cd81-7443f20cdc70"
      },
      "source": [
        "df.show(3)"
      ],
      "execution_count": null,
      "outputs": [
        {
          "output_type": "stream",
          "text": [
            "+------+----+---------+---------+------+--------+------+-------+--------+--------+--------+------+-------+---------+-------+------+-------+--------+--------+--------+--------+--------+--------+--------+--------+---------+-------+------+--------+--------+---------+------+---------+---------+---------+------+---------+---------+----+--------+------+---------+---------+-------+-------+---------+-------+-------+---------+---------+-----+---------+--------+---------+-------+-------+----+--------+--------+---------+---------+--------+-------+-------+--------+-----+--------+--------+--------+\n",
            "|caseid|dAge|dAncstry1|dAncstry2|iAvail|iCitizen|iClass|dDepart|iDisabl1|iDisabl2|iEnglish|iFeb55|iFertil|dHispanic|dHour89|dHours|iImmigr|dIncome1|dIncome2|dIncome3|dIncome4|dIncome5|dIncome6|dIncome7|dIncome8|dIndustry|iKorean|iLang1|iLooking|iMarital|iMay75880|iMeans|iMilitary|iMobility|iMobillim|dOccup|iOthrserv|iPerscare|dPOB|dPoverty|dPwgt1|iRagechld|dRearning|iRelat1|iRelat2|iRemplpar|iRiders|iRlabor|iRownchld|dRpincome|iRPOB|iRrelchld|iRspouse|iRvetserv|iSchool|iSept80|iSex|iSubfam1|iSubfam2|iTmpabsnt|dTravtime|iVietnam|dWeek89|iWork89|iWorklwk|iWWII|iYearsch|iYearwrk|dYrsserv|\n",
            "+------+----+---------+---------+------+--------+------+-------+--------+--------+--------+------+-------+---------+-------+------+-------+--------+--------+--------+--------+--------+--------+--------+--------+---------+-------+------+--------+--------+---------+------+---------+---------+---------+------+---------+---------+----+--------+------+---------+---------+-------+-------+---------+-------+-------+---------+---------+-----+---------+--------+---------+-------+-------+----+--------+--------+---------+---------+--------+-------+-------+--------+-----+--------+--------+--------+\n",
            "| 10000|   5|        0|        1|     0|       0|     5|      3|       2|       2|       1|     0|      1|        0|      4|     3|      0|       2|       0|       0|       1|       0|       0|       0|       0|       10|      0|     1|       0|       1|        0|     1|        4|        2|        2|     3|        0|        2|   0|       2|     1|        4|        3|      0|      0|        0|      3|      1|        0|        3|   22|        0|       3|        0|      1|      0|   1|       0|       0|        0|        5|       0|      2|      1|       1|    0|      11|       1|       0|\n",
            "| 10001|   6|        1|        1|     0|       0|     7|      5|       2|       2|       0|     0|      3|        0|      1|     1|      0|       1|       0|       0|       0|       0|       1|       0|       0|        4|      0|     2|       0|       0|        0|     1|        4|        1|        2|     2|        0|        2|   0|       2|     2|        4|        2|      1|      0|        0|      1|      1|        0|        2|   10|        0|       1|        0|      1|      0|   1|       0|       0|        0|        1|       0|      2|      1|       1|    0|       5|       1|       0|\n",
            "| 10002|   3|        1|        2|     0|       0|     7|      4|       2|       2|       0|     0|      1|        0|      4|     4|      0|       1|       0|       1|       0|       0|       0|       0|       0|        1|      0|     2|       0|       4|        0|    10|        4|        1|        2|     4|        0|        2|   0|       2|     1|        4|        2|      2|      0|        0|      0|      1|        0|        2|   10|        0|       6|        0|      1|      0|   1|       0|       0|        0|        2|       0|      2|      1|       1|    0|      10|       1|       0|\n",
            "+------+----+---------+---------+------+--------+------+-------+--------+--------+--------+------+-------+---------+-------+------+-------+--------+--------+--------+--------+--------+--------+--------+--------+---------+-------+------+--------+--------+---------+------+---------+---------+---------+------+---------+---------+----+--------+------+---------+---------+-------+-------+---------+-------+-------+---------+---------+-----+---------+--------+---------+-------+-------+----+--------+--------+---------+---------+--------+-------+-------+--------+-----+--------+--------+--------+\n",
            "only showing top 3 rows\n",
            "\n"
          ],
          "name": "stdout"
        }
      ]
    },
    {
      "cell_type": "code",
      "metadata": {
        "id": "6p1yxpNq2Apl",
        "colab": {
          "base_uri": "https://localhost:8080/"
        },
        "outputId": "d923befb-d4b7-4d8c-e183-f00e5007ffd3"
      },
      "source": [
        "df.count()"
      ],
      "execution_count": null,
      "outputs": [
        {
          "output_type": "execute_result",
          "data": {
            "text/plain": [
              "2458285"
            ]
          },
          "metadata": {
            "tags": []
          },
          "execution_count": 7
        }
      ]
    },
    {
      "cell_type": "code",
      "metadata": {
        "id": "KrevP9CAPxSD"
      },
      "source": [
        "#df.describe().show()"
      ],
      "execution_count": null,
      "outputs": []
    },
    {
      "cell_type": "markdown",
      "metadata": {
        "id": "i1BHYCog2JTm"
      },
      "source": [
        "#Choosing Variables Relevant to Policy/Law Making"
      ]
    },
    {
      "cell_type": "markdown",
      "metadata": {
        "id": "l6Q6V8SzbfRz"
      },
      "source": [
        "\n",
        "---\n"
      ]
    },
    {
      "cell_type": "code",
      "metadata": {
        "id": "lCPT4zHCbjxR"
      },
      "source": [
        "df_cluster = df.select('iCitizen', 'iClass', 'iDisabl1', 'iEnglish', 'iFertil', 'dAge', 'iLang1', 'iMarital', 'iMeans', 'iMilitary', 'dPOB', 'dPoverty', 'dPwgt1', 'dRearning', 'iSex', 'iTmpabsnt', 'dTravtime', 'iWork89', 'iYearsch')"
      ],
      "execution_count": null,
      "outputs": []
    },
    {
      "cell_type": "code",
      "metadata": {
        "colab": {
          "base_uri": "https://localhost:8080/"
        },
        "id": "gLVN45BqiuMN",
        "outputId": "d8091668-1b89-4ced-89bd-9b501d645bcf"
      },
      "source": [
        "df_cluster.show(5)"
      ],
      "execution_count": null,
      "outputs": [
        {
          "output_type": "stream",
          "text": [
            "+--------+------+--------+--------+-------+----+------+--------+------+---------+----+--------+------+---------+----+---------+---------+-------+--------+\n",
            "|iCitizen|iClass|iDisabl1|iEnglish|iFertil|dAge|iLang1|iMarital|iMeans|iMilitary|dPOB|dPoverty|dPwgt1|dRearning|iSex|iTmpabsnt|dTravtime|iWork89|iYearsch|\n",
            "+--------+------+--------+--------+-------+----+------+--------+------+---------+----+--------+------+---------+----+---------+---------+-------+--------+\n",
            "|       0|     5|       2|       1|      1|   5|     1|       1|     1|        4|   0|       2|     1|        3|   1|        0|        5|      1|      11|\n",
            "|       0|     7|       2|       0|      3|   6|     2|       0|     1|        4|   0|       2|     2|        2|   1|        0|        1|      1|       5|\n",
            "|       0|     7|       2|       0|      1|   3|     2|       4|    10|        4|   0|       2|     1|        2|   1|        0|        2|      1|      10|\n",
            "|       0|     1|       2|       0|      3|   4|     2|       2|     1|        4|   0|       2|     1|        2|   1|        0|        1|      1|      10|\n",
            "|       0|     0|       2|       0|      3|   7|     2|       0|     0|        4|   0|       2|     1|        0|   1|        3|        0|      2|       5|\n",
            "+--------+------+--------+--------+-------+----+------+--------+------+---------+----+--------+------+---------+----+---------+---------+-------+--------+\n",
            "only showing top 5 rows\n",
            "\n"
          ],
          "name": "stdout"
        }
      ]
    },
    {
      "cell_type": "code",
      "metadata": {
        "colab": {
          "base_uri": "https://localhost:8080/"
        },
        "id": "ZeTaaBU0inOR",
        "outputId": "17bc8afb-6050-459d-c428-a82591d8b41c"
      },
      "source": [
        "type(df_cluster)"
      ],
      "execution_count": null,
      "outputs": [
        {
          "output_type": "execute_result",
          "data": {
            "text/plain": [
              "pyspark.sql.dataframe.DataFrame"
            ]
          },
          "metadata": {
            "tags": []
          },
          "execution_count": 11
        }
      ]
    },
    {
      "cell_type": "markdown",
      "metadata": {
        "id": "xt8BeKfrjeNI"
      },
      "source": [
        "#One hot encoding to make variables suitable for clustering"
      ]
    },
    {
      "cell_type": "code",
      "metadata": {
        "colab": {
          "base_uri": "https://localhost:8080/"
        },
        "id": "jDqFbaeEj62b",
        "outputId": "04d5eb10-dac8-4e22-f50f-65195a3fb8b7"
      },
      "source": [
        "#Checking the data types of each column - need to be int\n",
        "df_cluster.dtypes"
      ],
      "execution_count": null,
      "outputs": [
        {
          "output_type": "execute_result",
          "data": {
            "text/plain": [
              "[('iCitizen', 'string'),\n",
              " ('iClass', 'string'),\n",
              " ('iDisabl1', 'string'),\n",
              " ('iEnglish', 'string'),\n",
              " ('iFertil', 'string'),\n",
              " ('dAge', 'string'),\n",
              " ('iLang1', 'string'),\n",
              " ('iMarital', 'string'),\n",
              " ('iMeans', 'string'),\n",
              " ('iMilitary', 'string'),\n",
              " ('dPOB', 'string'),\n",
              " ('dPoverty', 'string'),\n",
              " ('dPwgt1', 'string'),\n",
              " ('dRearning', 'string'),\n",
              " ('iSex', 'string'),\n",
              " ('iTmpabsnt', 'string'),\n",
              " ('dTravtime', 'string'),\n",
              " ('iWork89', 'string'),\n",
              " ('iYearsch', 'string')]"
            ]
          },
          "metadata": {
            "tags": []
          },
          "execution_count": 12
        }
      ]
    },
    {
      "cell_type": "code",
      "metadata": {
        "id": "UzNYCeYZlNNV"
      },
      "source": [
        "#Changing the data types to int\n",
        "df_cluster = df_cluster.withColumn(\"iCitizen\", df_cluster[\"iCitizen\"].cast('int'))\n",
        "df_cluster = df_cluster.withColumn(\"iClass\", df_cluster[\"iClass\"].cast('int'))\n",
        "df_cluster = df_cluster.withColumn(\"iDisabl1\", df_cluster[\"iDisabl1\"].cast('int'))\n",
        "df_cluster = df_cluster.withColumn(\"iEnglish\", df_cluster[\"iEnglish\"].cast('int'))\n",
        "df_cluster = df_cluster.withColumn(\"iFertil\", df_cluster[\"iFertil\"].cast('int'))\n",
        "df_cluster = df_cluster.withColumn(\"dAge\", df_cluster[\"dAge\"].cast('int'))\n",
        "df_cluster = df_cluster.withColumn(\"iLang1\", df_cluster[\"iLang1\"].cast('int'))\n",
        "df_cluster = df_cluster.withColumn(\"iMarital\", df_cluster[\"iMarital\"].cast('int'))\n",
        "df_cluster = df_cluster.withColumn(\"iMeans\", df_cluster[\"iMeans\"].cast('int'))\n",
        "df_cluster = df_cluster.withColumn(\"iMilitary\", df_cluster[\"iMilitary\"].cast('int'))\n",
        "df_cluster = df_cluster.withColumn(\"dPOB\", df_cluster[\"dPOB\"].cast('int'))\n",
        "df_cluster = df_cluster.withColumn(\"dPoverty\", df_cluster[\"dPoverty\"].cast('int'))\n",
        "df_cluster = df_cluster.withColumn(\"dPwgt1\", df_cluster[\"dPwgt1\"].cast('int'))\n",
        "df_cluster = df_cluster.withColumn(\"dRearning\", df_cluster[\"dRearning\"].cast('int'))\n",
        "df_cluster = df_cluster.withColumn(\"iSex\", df_cluster[\"iSex\"].cast('int'))\n",
        "df_cluster = df_cluster.withColumn(\"iTmpabsnt\", df_cluster[\"iTmpabsnt\"].cast('int'))\n",
        "df_cluster = df_cluster.withColumn(\"dTravtime\", df_cluster[\"dTravtime\"].cast('int'))\n",
        "df_cluster = df_cluster.withColumn(\"iWork89\", df_cluster[\"iWork89\"].cast('int'))\n",
        "df_cluster = df_cluster.withColumn(\"iYearsch\", df_cluster[\"iYearsch\"].cast('int'))"
      ],
      "execution_count": null,
      "outputs": []
    },
    {
      "cell_type": "code",
      "metadata": {
        "colab": {
          "base_uri": "https://localhost:8080/"
        },
        "id": "JPKiFB6boc_E",
        "outputId": "f88da267-352f-4fc5-9da9-2c9c842a5a26"
      },
      "source": [
        "df_cluster.dtypes"
      ],
      "execution_count": null,
      "outputs": [
        {
          "output_type": "execute_result",
          "data": {
            "text/plain": [
              "[('iCitizen', 'int'),\n",
              " ('iClass', 'int'),\n",
              " ('iDisabl1', 'int'),\n",
              " ('iEnglish', 'int'),\n",
              " ('iFertil', 'int'),\n",
              " ('dAge', 'int'),\n",
              " ('iLang1', 'int'),\n",
              " ('iMarital', 'int'),\n",
              " ('iMeans', 'int'),\n",
              " ('iMilitary', 'int'),\n",
              " ('dPOB', 'int'),\n",
              " ('dPoverty', 'int'),\n",
              " ('dPwgt1', 'int'),\n",
              " ('dRearning', 'int'),\n",
              " ('iSex', 'int'),\n",
              " ('iTmpabsnt', 'int'),\n",
              " ('dTravtime', 'int'),\n",
              " ('iWork89', 'int'),\n",
              " ('iYearsch', 'int')]"
            ]
          },
          "metadata": {
            "tags": []
          },
          "execution_count": 14
        }
      ]
    },
    {
      "cell_type": "code",
      "metadata": {
        "id": "3JjFgEKAjdIm"
      },
      "source": [
        "from pyspark.ml.feature import OneHotEncoderEstimator\n",
        "encoder = OneHotEncoderEstimator(inputCols=['iCitizen'], outputCols=['Citizen Status'], dropLast=False)\n",
        "df_cluster = encoder.fit(df_cluster).transform(df_cluster)"
      ],
      "execution_count": null,
      "outputs": []
    },
    {
      "cell_type": "code",
      "metadata": {
        "colab": {
          "base_uri": "https://localhost:8080/"
        },
        "id": "KFrxb63lp136",
        "outputId": "f9e7b41d-34ea-40bb-9d09-12542d12a26f"
      },
      "source": [
        "df_cluster.show(3)"
      ],
      "execution_count": null,
      "outputs": [
        {
          "output_type": "stream",
          "text": [
            "+--------+------+--------+--------+-------+----+------+--------+------+---------+----+--------+------+---------+----+---------+---------+-------+--------+--------------+\n",
            "|iCitizen|iClass|iDisabl1|iEnglish|iFertil|dAge|iLang1|iMarital|iMeans|iMilitary|dPOB|dPoverty|dPwgt1|dRearning|iSex|iTmpabsnt|dTravtime|iWork89|iYearsch|Citizen Status|\n",
            "+--------+------+--------+--------+-------+----+------+--------+------+---------+----+--------+------+---------+----+---------+---------+-------+--------+--------------+\n",
            "|       0|     5|       2|       1|      1|   5|     1|       1|     1|        4|   0|       2|     1|        3|   1|        0|        5|      1|      11| (5,[0],[1.0])|\n",
            "|       0|     7|       2|       0|      3|   6|     2|       0|     1|        4|   0|       2|     2|        2|   1|        0|        1|      1|       5| (5,[0],[1.0])|\n",
            "|       0|     7|       2|       0|      1|   3|     2|       4|    10|        4|   0|       2|     1|        2|   1|        0|        2|      1|      10| (5,[0],[1.0])|\n",
            "+--------+------+--------+--------+-------+----+------+--------+------+---------+----+--------+------+---------+----+---------+---------+-------+--------+--------------+\n",
            "only showing top 3 rows\n",
            "\n"
          ],
          "name": "stdout"
        }
      ]
    },
    {
      "cell_type": "code",
      "metadata": {
        "id": "7DO4d0inouO1"
      },
      "source": [
        "from pyspark.ml.feature import OneHotEncoderEstimator\n",
        "encoder = OneHotEncoderEstimator(inputCols=['iClass'], outputCols=['Worker_class'])\n",
        "df_cluster = encoder.fit(df_cluster).transform(df_cluster)"
      ],
      "execution_count": null,
      "outputs": []
    },
    {
      "cell_type": "code",
      "metadata": {
        "id": "S209f1yosMa8"
      },
      "source": [
        "from pyspark.ml.feature import OneHotEncoderEstimator\n",
        "encoder = OneHotEncoderEstimator(inputCols=['iDisabl1'], outputCols=['Work_Disability_Limitation'])\n",
        "df_cluster = encoder.fit(df_cluster).transform(df_cluster)"
      ],
      "execution_count": null,
      "outputs": []
    },
    {
      "cell_type": "code",
      "metadata": {
        "id": "VbQbSADRsr5t"
      },
      "source": [
        "from pyspark.ml.feature import OneHotEncoderEstimator\n",
        "encoder = OneHotEncoderEstimator(inputCols=['iEnglish'], outputCols=['English_proficiency'])\n",
        "df_cluster = encoder.fit(df_cluster).transform(df_cluster)"
      ],
      "execution_count": null,
      "outputs": []
    },
    {
      "cell_type": "code",
      "metadata": {
        "id": "5ede_G9xs8TV"
      },
      "source": [
        "from pyspark.ml.feature import OneHotEncoderEstimator\n",
        "encoder = OneHotEncoderEstimator(inputCols=['iFertil'], outputCols=['Number_of_children'])\n",
        "df_cluster = encoder.fit(df_cluster).transform(df_cluster)"
      ],
      "execution_count": null,
      "outputs": []
    },
    {
      "cell_type": "code",
      "metadata": {
        "id": "5e8G0F_XtLBs"
      },
      "source": [
        "from pyspark.ml.feature import OneHotEncoderEstimator\n",
        "encoder = OneHotEncoderEstimator(inputCols=['dAge'], outputCols=['Age'])\n",
        "df_cluster = encoder.fit(df_cluster).transform(df_cluster)"
      ],
      "execution_count": null,
      "outputs": []
    },
    {
      "cell_type": "code",
      "metadata": {
        "id": "Mu_N4IL-vhrh"
      },
      "source": [
        "from pyspark.ml.feature import OneHotEncoderEstimator\n",
        "encoder = OneHotEncoderEstimator(inputCols=['iLang1'], outputCols=['Other_languages'])\n",
        "df_cluster = encoder.fit(df_cluster).transform(df_cluster)"
      ],
      "execution_count": null,
      "outputs": []
    },
    {
      "cell_type": "code",
      "metadata": {
        "id": "nzsR-41IvtU0"
      },
      "source": [
        "from pyspark.ml.feature import OneHotEncoderEstimator\n",
        "encoder = OneHotEncoderEstimator(inputCols=['iMarital'], outputCols=['Marital_status'])\n",
        "df_cluster = encoder.fit(df_cluster).transform(df_cluster)"
      ],
      "execution_count": null,
      "outputs": []
    },
    {
      "cell_type": "code",
      "metadata": {
        "id": "MkYOWEZCv31Z"
      },
      "source": [
        "from pyspark.ml.feature import OneHotEncoderEstimator\n",
        "encoder = OneHotEncoderEstimator(inputCols=['iMeans'], outputCols=['Means_of_Transporation'])\n",
        "df_cluster = encoder.fit(df_cluster).transform(df_cluster)"
      ],
      "execution_count": null,
      "outputs": []
    },
    {
      "cell_type": "code",
      "metadata": {
        "id": "sdARoVOuwFAn"
      },
      "source": [
        "from pyspark.ml.feature import OneHotEncoderEstimator\n",
        "encoder = OneHotEncoderEstimator(inputCols=['iMilitary'], outputCols=['Military_status'])\n",
        "df_cluster = encoder.fit(df_cluster).transform(df_cluster)"
      ],
      "execution_count": null,
      "outputs": []
    },
    {
      "cell_type": "code",
      "metadata": {
        "id": "Wdk-wmCCwPj4"
      },
      "source": [
        "from pyspark.ml.feature import OneHotEncoderEstimator\n",
        "encoder = OneHotEncoderEstimator(inputCols=['dPOB'], outputCols=['Place_of_Birth'])\n",
        "df_cluster = encoder.fit(df_cluster).transform(df_cluster)"
      ],
      "execution_count": null,
      "outputs": []
    },
    {
      "cell_type": "code",
      "metadata": {
        "id": "2NtKqaKEwVXc"
      },
      "source": [
        "from pyspark.ml.feature import OneHotEncoderEstimator\n",
        "encoder = OneHotEncoderEstimator(inputCols=['dPoverty'], outputCols=['Poverty_status'])\n",
        "df_cluster = encoder.fit(df_cluster).transform(df_cluster)"
      ],
      "execution_count": null,
      "outputs": []
    },
    {
      "cell_type": "code",
      "metadata": {
        "id": "my-IVGwcwZ2b"
      },
      "source": [
        "from pyspark.ml.feature import OneHotEncoderEstimator\n",
        "encoder = OneHotEncoderEstimator(inputCols=['dPwgt1'], outputCols=['Weight'])\n",
        "df_cluster = encoder.fit(df_cluster).transform(df_cluster)"
      ],
      "execution_count": null,
      "outputs": []
    },
    {
      "cell_type": "code",
      "metadata": {
        "id": "6NNlU5Ogwe72"
      },
      "source": [
        "from pyspark.ml.feature import OneHotEncoderEstimator\n",
        "encoder = OneHotEncoderEstimator(inputCols=['dRearning'], outputCols=['Personal_Income'])\n",
        "df_cluster = encoder.fit(df_cluster).transform(df_cluster)"
      ],
      "execution_count": null,
      "outputs": []
    },
    {
      "cell_type": "code",
      "metadata": {
        "id": "zsEJzuQkxoPK"
      },
      "source": [
        "from pyspark.ml.feature import OneHotEncoderEstimator\n",
        "encoder = OneHotEncoderEstimator(inputCols=['iSex'], outputCols=['Sex'])\n",
        "df_cluster = encoder.fit(df_cluster).transform(df_cluster)"
      ],
      "execution_count": null,
      "outputs": []
    },
    {
      "cell_type": "code",
      "metadata": {
        "id": "rGzxcDjZzpZe"
      },
      "source": [
        "from pyspark.ml.feature import OneHotEncoderEstimator\n",
        "encoder = OneHotEncoderEstimator(inputCols=['iTmpabsnt'], outputCols=['Temp_Absent_Work'])\n",
        "df_cluster = encoder.fit(df_cluster).transform(df_cluster)"
      ],
      "execution_count": null,
      "outputs": []
    },
    {
      "cell_type": "code",
      "metadata": {
        "id": "CT3edzYAzxsf"
      },
      "source": [
        "from pyspark.ml.feature import OneHotEncoderEstimator\n",
        "encoder = OneHotEncoderEstimator(inputCols=['dTravtime'], outputCols=['Travel_time'])\n",
        "df_cluster = encoder.fit(df_cluster).transform(df_cluster)"
      ],
      "execution_count": null,
      "outputs": []
    },
    {
      "cell_type": "code",
      "metadata": {
        "id": "ksqpkEySz5sU"
      },
      "source": [
        "from pyspark.ml.feature import OneHotEncoderEstimator\n",
        "encoder = OneHotEncoderEstimator(inputCols=['iWork89'], outputCols=['Worked_last_year'])\n",
        "df_cluster = encoder.fit(df_cluster).transform(df_cluster)"
      ],
      "execution_count": null,
      "outputs": []
    },
    {
      "cell_type": "code",
      "metadata": {
        "id": "ID4rlzXb0CaT"
      },
      "source": [
        "from pyspark.ml.feature import OneHotEncoderEstimator\n",
        "encoder = OneHotEncoderEstimator(inputCols=['iYearsch'], outputCols=['Educational_background'])\n",
        "df_cluster = encoder.fit(df_cluster).transform(df_cluster)"
      ],
      "execution_count": null,
      "outputs": []
    },
    {
      "cell_type": "code",
      "metadata": {
        "colab": {
          "base_uri": "https://localhost:8080/"
        },
        "id": "VojWkPFx1zo_",
        "outputId": "3adfa77f-754d-480d-9c3b-c3b35053ddab"
      },
      "source": [
        "df_cluster.show(3)"
      ],
      "execution_count": null,
      "outputs": [
        {
          "output_type": "stream",
          "text": [
            "+--------+------+--------+--------+-------+----+------+--------+------+---------+----+--------+------+---------+----+---------+---------+-------+--------+--------------+-------------+--------------------------+-------------------+------------------+-------------+---------------+--------------+----------------------+---------------+--------------+--------------+-------------+---------------+---------+----------------+-------------+----------------+----------------------+\n",
            "|iCitizen|iClass|iDisabl1|iEnglish|iFertil|dAge|iLang1|iMarital|iMeans|iMilitary|dPOB|dPoverty|dPwgt1|dRearning|iSex|iTmpabsnt|dTravtime|iWork89|iYearsch|Citizen Status| Worker_class|Work_Disability_Limitation|English_proficiency|Number_of_children|          Age|Other_languages|Marital_status|Means_of_Transporation|Military_status|Place_of_Birth|Poverty_status|       Weight|Personal_Income|      Sex|Temp_Absent_Work|  Travel_time|Worked_last_year|Educational_background|\n",
            "+--------+------+--------+--------+-------+----+------+--------+------+---------+----+--------+------+---------+----+---------+---------+-------+--------+--------------+-------------+--------------------------+-------------------+------------------+-------------+---------------+--------------+----------------------+---------------+--------------+--------------+-------------+---------------+---------+----------------+-------------+----------------+----------------------+\n",
            "|       0|     5|       2|       1|      1|   5|     1|       1|     1|        4|   0|       2|     1|        3|   1|        0|        5|      1|      11| (5,[0],[1.0])|(9,[5],[1.0])|                 (2,[],[])|      (4,[1],[1.0])|    (13,[1],[1.0])|(7,[5],[1.0])|  (2,[1],[1.0])| (4,[1],[1.0])|        (12,[1],[1.0])|      (4,[],[])| (6,[0],[1.0])|     (2,[],[])|(3,[1],[1.0])|  (5,[3],[1.0])|(1,[],[])|   (3,[0],[1.0])|(6,[5],[1.0])|   (2,[1],[1.0])|       (17,[11],[1.0])|\n",
            "|       0|     7|       2|       0|      3|   6|     2|       0|     1|        4|   0|       2|     2|        2|   1|        0|        1|      1|       5| (5,[0],[1.0])|(9,[7],[1.0])|                 (2,[],[])|      (4,[0],[1.0])|    (13,[3],[1.0])|(7,[6],[1.0])|      (2,[],[])| (4,[0],[1.0])|        (12,[1],[1.0])|      (4,[],[])| (6,[0],[1.0])|     (2,[],[])|(3,[2],[1.0])|  (5,[2],[1.0])|(1,[],[])|   (3,[0],[1.0])|(6,[1],[1.0])|   (2,[1],[1.0])|        (17,[5],[1.0])|\n",
            "|       0|     7|       2|       0|      1|   3|     2|       4|    10|        4|   0|       2|     1|        2|   1|        0|        2|      1|      10| (5,[0],[1.0])|(9,[7],[1.0])|                 (2,[],[])|      (4,[0],[1.0])|    (13,[1],[1.0])|(7,[3],[1.0])|      (2,[],[])|     (4,[],[])|       (12,[10],[1.0])|      (4,[],[])| (6,[0],[1.0])|     (2,[],[])|(3,[1],[1.0])|  (5,[2],[1.0])|(1,[],[])|   (3,[0],[1.0])|(6,[2],[1.0])|   (2,[1],[1.0])|       (17,[10],[1.0])|\n",
            "+--------+------+--------+--------+-------+----+------+--------+------+---------+----+--------+------+---------+----+---------+---------+-------+--------+--------------+-------------+--------------------------+-------------------+------------------+-------------+---------------+--------------+----------------------+---------------+--------------+--------------+-------------+---------------+---------+----------------+-------------+----------------+----------------------+\n",
            "only showing top 3 rows\n",
            "\n"
          ],
          "name": "stdout"
        }
      ]
    },
    {
      "cell_type": "markdown",
      "metadata": {
        "id": "7bFKPHnygF1V"
      },
      "source": [
        "#Buidling the Clustering Algorithms"
      ]
    },
    {
      "cell_type": "code",
      "metadata": {
        "id": "-S4qDyk0f3Vm"
      },
      "source": [
        "from pyspark.ml.feature import VectorAssembler\n",
        "assembler = VectorAssembler(inputCols=df_cluster.columns[20:],outputCol=\"features\")\n",
        "df_cluster = assembler.transform(df_cluster)\n",
        "df_cluster.show(5)"
      ],
      "execution_count": null,
      "outputs": []
    },
    {
      "cell_type": "code",
      "metadata": {
        "id": "Sxr7obfJgyQP"
      },
      "source": [
        "#Kmeans\r\n",
        "from pyspark.ml.clustering import KMeans\r\n",
        "kmeans = KMeans(k=5)\r\n",
        "km_model = kmeans.fit(df_cluster)"
      ],
      "execution_count": null,
      "outputs": []
    },
    {
      "cell_type": "code",
      "metadata": {
        "colab": {
          "base_uri": "https://localhost:8080/"
        },
        "id": "S6cWtcZwEv1m",
        "outputId": "96c6d1c2-9f68-4a1c-c279-7e27dcb41f4c"
      },
      "source": [
        "predicted = km_model.transform(df_cluster)\r\n",
        "predicted.show(3)"
      ],
      "execution_count": null,
      "outputs": [
        {
          "output_type": "stream",
          "text": [
            "+--------+------+--------+--------+-------+----+------+--------+------+---------+----+--------+------+---------+----+---------+---------+-------+--------+--------------+-------------+--------------------------+-------------------+------------------+-------------+---------------+--------------+----------------------+---------------+--------------+--------------+-------------+---------------+---------+----------------+-------------+----------------+----------------------+--------------------+----------+\n",
            "|iCitizen|iClass|iDisabl1|iEnglish|iFertil|dAge|iLang1|iMarital|iMeans|iMilitary|dPOB|dPoverty|dPwgt1|dRearning|iSex|iTmpabsnt|dTravtime|iWork89|iYearsch|Citizen Status| Worker_class|Work_Disability_Limitation|English_proficiency|Number_of_children|          Age|Other_languages|Marital_status|Means_of_Transporation|Military_status|Place_of_Birth|Poverty_status|       Weight|Personal_Income|      Sex|Temp_Absent_Work|  Travel_time|Worked_last_year|Educational_background|            features|prediction|\n",
            "+--------+------+--------+--------+-------+----+------+--------+------+---------+----+--------+------+---------+----+---------+---------+-------+--------+--------------+-------------+--------------------------+-------------------+------------------+-------------+---------------+--------------+----------------------+---------------+--------------+--------------+-------------+---------------+---------+----------------+-------------+----------------+----------------------+--------------------+----------+\n",
            "|       0|     5|       2|       1|      1|   5|     1|       1|     1|        4|   0|       2|     1|        3|   1|        0|        5|      1|      11| (5,[0],[1.0])|(9,[5],[1.0])|                 (2,[],[])|      (4,[1],[1.0])|    (13,[1],[1.0])|(7,[5],[1.0])|  (2,[1],[1.0])| (4,[1],[1.0])|        (12,[1],[1.0])|      (4,[],[])| (6,[0],[1.0])|     (2,[],[])|(3,[1],[1.0])|  (5,[3],[1.0])|(1,[],[])|   (3,[0],[1.0])|(6,[5],[1.0])|   (2,[1],[1.0])|       (17,[11],[1.0])|(102,[5,12,16,33,...|         4|\n",
            "|       0|     7|       2|       0|      3|   6|     2|       0|     1|        4|   0|       2|     2|        2|   1|        0|        1|      1|       5| (5,[0],[1.0])|(9,[7],[1.0])|                 (2,[],[])|      (4,[0],[1.0])|    (13,[3],[1.0])|(7,[6],[1.0])|      (2,[],[])| (4,[0],[1.0])|        (12,[1],[1.0])|      (4,[],[])| (6,[0],[1.0])|     (2,[],[])|(3,[2],[1.0])|  (5,[2],[1.0])|(1,[],[])|   (3,[0],[1.0])|(6,[1],[1.0])|   (2,[1],[1.0])|        (17,[5],[1.0])|(102,[7,11,18,34,...|         4|\n",
            "|       0|     7|       2|       0|      1|   3|     2|       4|    10|        4|   0|       2|     1|        2|   1|        0|        2|      1|      10| (5,[0],[1.0])|(9,[7],[1.0])|                 (2,[],[])|      (4,[0],[1.0])|    (13,[1],[1.0])|(7,[3],[1.0])|      (2,[],[])|     (4,[],[])|       (12,[10],[1.0])|      (4,[],[])| (6,[0],[1.0])|     (2,[],[])|(3,[1],[1.0])|  (5,[2],[1.0])|(1,[],[])|   (3,[0],[1.0])|(6,[2],[1.0])|   (2,[1],[1.0])|       (17,[10],[1.0])|(102,[7,11,16,31,...|         4|\n",
            "+--------+------+--------+--------+-------+----+------+--------+------+---------+----+--------+------+---------+----+---------+---------+-------+--------+--------------+-------------+--------------------------+-------------------+------------------+-------------+---------------+--------------+----------------------+---------------+--------------+--------------+-------------+---------------+---------+----------------+-------------+----------------+----------------------+--------------------+----------+\n",
            "only showing top 3 rows\n",
            "\n"
          ],
          "name": "stdout"
        }
      ]
    },
    {
      "cell_type": "code",
      "metadata": {
        "id": "kW1FhBHERVW5"
      },
      "source": [
        "km_pdf = predicted.select(['iCitizen','iClass','iDisabl1','iEnglish','iFertil','dAge','iLang1','iMarital','iMeans','iMilitary','dPOB','dPoverty','dPwgt1','dRearning','iSex','iTmpabsnt','dTravtime','iWork89','iYearsch','prediction'])"
      ],
      "execution_count": null,
      "outputs": []
    },
    {
      "cell_type": "code",
      "metadata": {
        "colab": {
          "base_uri": "https://localhost:8080/"
        },
        "id": "jhz-614tR6P_",
        "outputId": "19c02cde-bcc4-4bc4-8a80-2c269c7f46db"
      },
      "source": [
        "km_pdf.show(3)"
      ],
      "execution_count": null,
      "outputs": [
        {
          "output_type": "stream",
          "text": [
            "+--------+------+--------+--------+-------+----+------+--------+------+---------+----+--------+------+---------+----+---------+---------+-------+--------+----------+\n",
            "|iCitizen|iClass|iDisabl1|iEnglish|iFertil|dAge|iLang1|iMarital|iMeans|iMilitary|dPOB|dPoverty|dPwgt1|dRearning|iSex|iTmpabsnt|dTravtime|iWork89|iYearsch|prediction|\n",
            "+--------+------+--------+--------+-------+----+------+--------+------+---------+----+--------+------+---------+----+---------+---------+-------+--------+----------+\n",
            "|       0|     5|       2|       1|      1|   5|     1|       1|     1|        4|   0|       2|     1|        3|   1|        0|        5|      1|      11|         4|\n",
            "|       0|     7|       2|       0|      3|   6|     2|       0|     1|        4|   0|       2|     2|        2|   1|        0|        1|      1|       5|         4|\n",
            "|       0|     7|       2|       0|      1|   3|     2|       4|    10|        4|   0|       2|     1|        2|   1|        0|        2|      1|      10|         4|\n",
            "+--------+------+--------+--------+-------+----+------+--------+------+---------+----+--------+------+---------+----+---------+---------+-------+--------+----------+\n",
            "only showing top 3 rows\n",
            "\n"
          ],
          "name": "stdout"
        }
      ]
    },
    {
      "cell_type": "code",
      "metadata": {
        "colab": {
          "base_uri": "https://localhost:8080/",
          "height": 215
        },
        "id": "RvPQ4JIgR-87",
        "outputId": "8ca6c03a-ed6c-4695-a847-192e467b68bf"
      },
      "source": [
        "import pandas as pd\r\n",
        "km_pdf = km_pdf.toPandas()\r\n",
        "km_pdf.head()"
      ],
      "execution_count": null,
      "outputs": [
        {
          "output_type": "execute_result",
          "data": {
            "text/html": [
              "<div>\n",
              "<style scoped>\n",
              "    .dataframe tbody tr th:only-of-type {\n",
              "        vertical-align: middle;\n",
              "    }\n",
              "\n",
              "    .dataframe tbody tr th {\n",
              "        vertical-align: top;\n",
              "    }\n",
              "\n",
              "    .dataframe thead th {\n",
              "        text-align: right;\n",
              "    }\n",
              "</style>\n",
              "<table border=\"1\" class=\"dataframe\">\n",
              "  <thead>\n",
              "    <tr style=\"text-align: right;\">\n",
              "      <th></th>\n",
              "      <th>iCitizen</th>\n",
              "      <th>iClass</th>\n",
              "      <th>iDisabl1</th>\n",
              "      <th>iEnglish</th>\n",
              "      <th>iFertil</th>\n",
              "      <th>dAge</th>\n",
              "      <th>iLang1</th>\n",
              "      <th>iMarital</th>\n",
              "      <th>iMeans</th>\n",
              "      <th>iMilitary</th>\n",
              "      <th>dPOB</th>\n",
              "      <th>dPoverty</th>\n",
              "      <th>dPwgt1</th>\n",
              "      <th>dRearning</th>\n",
              "      <th>iSex</th>\n",
              "      <th>iTmpabsnt</th>\n",
              "      <th>dTravtime</th>\n",
              "      <th>iWork89</th>\n",
              "      <th>iYearsch</th>\n",
              "      <th>prediction</th>\n",
              "    </tr>\n",
              "  </thead>\n",
              "  <tbody>\n",
              "    <tr>\n",
              "      <th>0</th>\n",
              "      <td>0</td>\n",
              "      <td>5</td>\n",
              "      <td>2</td>\n",
              "      <td>1</td>\n",
              "      <td>1</td>\n",
              "      <td>5</td>\n",
              "      <td>1</td>\n",
              "      <td>1</td>\n",
              "      <td>1</td>\n",
              "      <td>4</td>\n",
              "      <td>0</td>\n",
              "      <td>2</td>\n",
              "      <td>1</td>\n",
              "      <td>3</td>\n",
              "      <td>1</td>\n",
              "      <td>0</td>\n",
              "      <td>5</td>\n",
              "      <td>1</td>\n",
              "      <td>11</td>\n",
              "      <td>4</td>\n",
              "    </tr>\n",
              "    <tr>\n",
              "      <th>1</th>\n",
              "      <td>0</td>\n",
              "      <td>7</td>\n",
              "      <td>2</td>\n",
              "      <td>0</td>\n",
              "      <td>3</td>\n",
              "      <td>6</td>\n",
              "      <td>2</td>\n",
              "      <td>0</td>\n",
              "      <td>1</td>\n",
              "      <td>4</td>\n",
              "      <td>0</td>\n",
              "      <td>2</td>\n",
              "      <td>2</td>\n",
              "      <td>2</td>\n",
              "      <td>1</td>\n",
              "      <td>0</td>\n",
              "      <td>1</td>\n",
              "      <td>1</td>\n",
              "      <td>5</td>\n",
              "      <td>4</td>\n",
              "    </tr>\n",
              "    <tr>\n",
              "      <th>2</th>\n",
              "      <td>0</td>\n",
              "      <td>7</td>\n",
              "      <td>2</td>\n",
              "      <td>0</td>\n",
              "      <td>1</td>\n",
              "      <td>3</td>\n",
              "      <td>2</td>\n",
              "      <td>4</td>\n",
              "      <td>10</td>\n",
              "      <td>4</td>\n",
              "      <td>0</td>\n",
              "      <td>2</td>\n",
              "      <td>1</td>\n",
              "      <td>2</td>\n",
              "      <td>1</td>\n",
              "      <td>0</td>\n",
              "      <td>2</td>\n",
              "      <td>1</td>\n",
              "      <td>10</td>\n",
              "      <td>4</td>\n",
              "    </tr>\n",
              "    <tr>\n",
              "      <th>3</th>\n",
              "      <td>0</td>\n",
              "      <td>1</td>\n",
              "      <td>2</td>\n",
              "      <td>0</td>\n",
              "      <td>3</td>\n",
              "      <td>4</td>\n",
              "      <td>2</td>\n",
              "      <td>2</td>\n",
              "      <td>1</td>\n",
              "      <td>4</td>\n",
              "      <td>0</td>\n",
              "      <td>2</td>\n",
              "      <td>1</td>\n",
              "      <td>2</td>\n",
              "      <td>1</td>\n",
              "      <td>0</td>\n",
              "      <td>1</td>\n",
              "      <td>1</td>\n",
              "      <td>10</td>\n",
              "      <td>4</td>\n",
              "    </tr>\n",
              "    <tr>\n",
              "      <th>4</th>\n",
              "      <td>0</td>\n",
              "      <td>0</td>\n",
              "      <td>2</td>\n",
              "      <td>0</td>\n",
              "      <td>3</td>\n",
              "      <td>7</td>\n",
              "      <td>2</td>\n",
              "      <td>0</td>\n",
              "      <td>0</td>\n",
              "      <td>4</td>\n",
              "      <td>0</td>\n",
              "      <td>2</td>\n",
              "      <td>1</td>\n",
              "      <td>0</td>\n",
              "      <td>1</td>\n",
              "      <td>3</td>\n",
              "      <td>0</td>\n",
              "      <td>2</td>\n",
              "      <td>5</td>\n",
              "      <td>2</td>\n",
              "    </tr>\n",
              "  </tbody>\n",
              "</table>\n",
              "</div>"
            ],
            "text/plain": [
              "   iCitizen  iClass  iDisabl1  ...  iWork89  iYearsch  prediction\n",
              "0         0       5         2  ...        1        11           4\n",
              "1         0       7         2  ...        1         5           4\n",
              "2         0       7         2  ...        1        10           4\n",
              "3         0       1         2  ...        1        10           4\n",
              "4         0       0         2  ...        2         5           2\n",
              "\n",
              "[5 rows x 20 columns]"
            ]
          },
          "metadata": {
            "tags": []
          },
          "execution_count": 72
        }
      ]
    },
    {
      "cell_type": "code",
      "metadata": {
        "colab": {
          "base_uri": "https://localhost:8080/",
          "height": 245
        },
        "id": "2Ct9GJvaTdby",
        "outputId": "0fd9e8c8-b7e8-4e51-ac3d-bedd6c87d10a"
      },
      "source": [
        "km_pdf.groupby('prediction').mean()"
      ],
      "execution_count": null,
      "outputs": [
        {
          "output_type": "execute_result",
          "data": {
            "text/html": [
              "<div>\n",
              "<style scoped>\n",
              "    .dataframe tbody tr th:only-of-type {\n",
              "        vertical-align: middle;\n",
              "    }\n",
              "\n",
              "    .dataframe tbody tr th {\n",
              "        vertical-align: top;\n",
              "    }\n",
              "\n",
              "    .dataframe thead th {\n",
              "        text-align: right;\n",
              "    }\n",
              "</style>\n",
              "<table border=\"1\" class=\"dataframe\">\n",
              "  <thead>\n",
              "    <tr style=\"text-align: right;\">\n",
              "      <th></th>\n",
              "      <th>iCitizen</th>\n",
              "      <th>iClass</th>\n",
              "      <th>iDisabl1</th>\n",
              "      <th>iEnglish</th>\n",
              "      <th>iFertil</th>\n",
              "      <th>dAge</th>\n",
              "      <th>iLang1</th>\n",
              "      <th>iMarital</th>\n",
              "      <th>iMeans</th>\n",
              "      <th>iMilitary</th>\n",
              "      <th>dPOB</th>\n",
              "      <th>dPoverty</th>\n",
              "      <th>dPwgt1</th>\n",
              "      <th>dRearning</th>\n",
              "      <th>iSex</th>\n",
              "      <th>iTmpabsnt</th>\n",
              "      <th>dTravtime</th>\n",
              "      <th>iWork89</th>\n",
              "      <th>iYearsch</th>\n",
              "    </tr>\n",
              "    <tr>\n",
              "      <th>prediction</th>\n",
              "      <th></th>\n",
              "      <th></th>\n",
              "      <th></th>\n",
              "      <th></th>\n",
              "      <th></th>\n",
              "      <th></th>\n",
              "      <th></th>\n",
              "      <th></th>\n",
              "      <th></th>\n",
              "      <th></th>\n",
              "      <th></th>\n",
              "      <th></th>\n",
              "      <th></th>\n",
              "      <th></th>\n",
              "      <th></th>\n",
              "      <th></th>\n",
              "      <th></th>\n",
              "      <th></th>\n",
              "      <th></th>\n",
              "    </tr>\n",
              "  </thead>\n",
              "  <tbody>\n",
              "    <tr>\n",
              "      <th>0</th>\n",
              "      <td>0.131005</td>\n",
              "      <td>0.000000</td>\n",
              "      <td>0.000000</td>\n",
              "      <td>0.138906</td>\n",
              "      <td>0.028778</td>\n",
              "      <td>1.119947</td>\n",
              "      <td>1.271771</td>\n",
              "      <td>3.998386</td>\n",
              "      <td>0.000000</td>\n",
              "      <td>0.000000</td>\n",
              "      <td>0.138005</td>\n",
              "      <td>1.786332</td>\n",
              "      <td>1.095614</td>\n",
              "      <td>0.000000</td>\n",
              "      <td>0.487858</td>\n",
              "      <td>0.000000</td>\n",
              "      <td>0.000000</td>\n",
              "      <td>0.000000</td>\n",
              "      <td>2.985326</td>\n",
              "    </tr>\n",
              "    <tr>\n",
              "      <th>1</th>\n",
              "      <td>0.306247</td>\n",
              "      <td>2.092894</td>\n",
              "      <td>1.866642</td>\n",
              "      <td>0.226392</td>\n",
              "      <td>1.470664</td>\n",
              "      <td>4.259263</td>\n",
              "      <td>1.867071</td>\n",
              "      <td>1.676365</td>\n",
              "      <td>0.885809</td>\n",
              "      <td>3.696622</td>\n",
              "      <td>0.301645</td>\n",
              "      <td>1.742205</td>\n",
              "      <td>1.123104</td>\n",
              "      <td>2.256054</td>\n",
              "      <td>0.529673</td>\n",
              "      <td>2.217584</td>\n",
              "      <td>0.000000</td>\n",
              "      <td>1.000597</td>\n",
              "      <td>9.864808</td>\n",
              "    </tr>\n",
              "    <tr>\n",
              "      <th>2</th>\n",
              "      <td>0.365935</td>\n",
              "      <td>0.539719</td>\n",
              "      <td>1.683315</td>\n",
              "      <td>0.284936</td>\n",
              "      <td>2.282567</td>\n",
              "      <td>5.605569</td>\n",
              "      <td>1.848047</td>\n",
              "      <td>1.107139</td>\n",
              "      <td>0.055086</td>\n",
              "      <td>3.721451</td>\n",
              "      <td>0.340714</td>\n",
              "      <td>1.718288</td>\n",
              "      <td>1.094472</td>\n",
              "      <td>0.000657</td>\n",
              "      <td>0.671302</td>\n",
              "      <td>2.593181</td>\n",
              "      <td>0.000930</td>\n",
              "      <td>1.996781</td>\n",
              "      <td>8.692499</td>\n",
              "    </tr>\n",
              "    <tr>\n",
              "      <th>3</th>\n",
              "      <td>0.352554</td>\n",
              "      <td>2.162364</td>\n",
              "      <td>1.956531</td>\n",
              "      <td>0.224244</td>\n",
              "      <td>0.000000</td>\n",
              "      <td>4.337167</td>\n",
              "      <td>1.868646</td>\n",
              "      <td>1.183215</td>\n",
              "      <td>1.743269</td>\n",
              "      <td>3.367175</td>\n",
              "      <td>0.347706</td>\n",
              "      <td>1.927095</td>\n",
              "      <td>1.148833</td>\n",
              "      <td>3.104361</td>\n",
              "      <td>0.000000</td>\n",
              "      <td>0.000000</td>\n",
              "      <td>3.435581</td>\n",
              "      <td>1.020954</td>\n",
              "      <td>10.833830</td>\n",
              "    </tr>\n",
              "    <tr>\n",
              "      <th>4</th>\n",
              "      <td>0.296595</td>\n",
              "      <td>1.904189</td>\n",
              "      <td>1.969162</td>\n",
              "      <td>0.188257</td>\n",
              "      <td>2.612279</td>\n",
              "      <td>4.289386</td>\n",
              "      <td>1.881561</td>\n",
              "      <td>1.314202</td>\n",
              "      <td>1.651902</td>\n",
              "      <td>3.965038</td>\n",
              "      <td>0.291318</td>\n",
              "      <td>1.921674</td>\n",
              "      <td>1.146474</td>\n",
              "      <td>2.526427</td>\n",
              "      <td>1.000000</td>\n",
              "      <td>0.000000</td>\n",
              "      <td>3.188505</td>\n",
              "      <td>1.032344</td>\n",
              "      <td>10.929245</td>\n",
              "    </tr>\n",
              "  </tbody>\n",
              "</table>\n",
              "</div>"
            ],
            "text/plain": [
              "            iCitizen    iClass  iDisabl1  ...  dTravtime   iWork89   iYearsch\n",
              "prediction                                ...                                \n",
              "0           0.131005  0.000000  0.000000  ...   0.000000  0.000000   2.985326\n",
              "1           0.306247  2.092894  1.866642  ...   0.000000  1.000597   9.864808\n",
              "2           0.365935  0.539719  1.683315  ...   0.000930  1.996781   8.692499\n",
              "3           0.352554  2.162364  1.956531  ...   3.435581  1.020954  10.833830\n",
              "4           0.296595  1.904189  1.969162  ...   3.188505  1.032344  10.929245\n",
              "\n",
              "[5 rows x 19 columns]"
            ]
          },
          "metadata": {
            "tags": []
          },
          "execution_count": 93
        }
      ]
    },
    {
      "cell_type": "code",
      "metadata": {
        "colab": {
          "base_uri": "https://localhost:8080/",
          "height": 156
        },
        "id": "dLOkZR6cR_mC",
        "outputId": "3805e774-0492-4b53-8afe-9c3f756fa894"
      },
      "source": [
        "km_pdf.groupby(km_pdf.prediction==0).mean()"
      ],
      "execution_count": null,
      "outputs": [
        {
          "output_type": "execute_result",
          "data": {
            "text/html": [
              "<div>\n",
              "<style scoped>\n",
              "    .dataframe tbody tr th:only-of-type {\n",
              "        vertical-align: middle;\n",
              "    }\n",
              "\n",
              "    .dataframe tbody tr th {\n",
              "        vertical-align: top;\n",
              "    }\n",
              "\n",
              "    .dataframe thead th {\n",
              "        text-align: right;\n",
              "    }\n",
              "</style>\n",
              "<table border=\"1\" class=\"dataframe\">\n",
              "  <thead>\n",
              "    <tr style=\"text-align: right;\">\n",
              "      <th></th>\n",
              "      <th>iCitizen</th>\n",
              "      <th>iClass</th>\n",
              "      <th>iDisabl1</th>\n",
              "      <th>iEnglish</th>\n",
              "      <th>iFertil</th>\n",
              "      <th>dAge</th>\n",
              "      <th>iLang1</th>\n",
              "      <th>iMarital</th>\n",
              "      <th>iMeans</th>\n",
              "      <th>iMilitary</th>\n",
              "      <th>dPOB</th>\n",
              "      <th>dPoverty</th>\n",
              "      <th>dPwgt1</th>\n",
              "      <th>dRearning</th>\n",
              "      <th>iSex</th>\n",
              "      <th>iTmpabsnt</th>\n",
              "      <th>dTravtime</th>\n",
              "      <th>iWork89</th>\n",
              "      <th>iYearsch</th>\n",
              "      <th>prediction</th>\n",
              "    </tr>\n",
              "    <tr>\n",
              "      <th>prediction</th>\n",
              "      <th></th>\n",
              "      <th></th>\n",
              "      <th></th>\n",
              "      <th></th>\n",
              "      <th></th>\n",
              "      <th></th>\n",
              "      <th></th>\n",
              "      <th></th>\n",
              "      <th></th>\n",
              "      <th></th>\n",
              "      <th></th>\n",
              "      <th></th>\n",
              "      <th></th>\n",
              "      <th></th>\n",
              "      <th></th>\n",
              "      <th></th>\n",
              "      <th></th>\n",
              "      <th></th>\n",
              "      <th></th>\n",
              "      <th></th>\n",
              "    </tr>\n",
              "  </thead>\n",
              "  <tbody>\n",
              "    <tr>\n",
              "      <th>False</th>\n",
              "      <td>0.336004</td>\n",
              "      <td>1.613049</td>\n",
              "      <td>1.868816</td>\n",
              "      <td>0.232818</td>\n",
              "      <td>1.533089</td>\n",
              "      <td>4.684722</td>\n",
              "      <td>1.865812</td>\n",
              "      <td>1.257462</td>\n",
              "      <td>1.118938</td>\n",
              "      <td>3.668122</td>\n",
              "      <td>0.325134</td>\n",
              "      <td>1.841459</td>\n",
              "      <td>1.129119</td>\n",
              "      <td>1.941415</td>\n",
              "      <td>0.523632</td>\n",
              "      <td>1.036027</td>\n",
              "      <td>1.935973</td>\n",
              "      <td>1.305904</td>\n",
              "      <td>10.112041</td>\n",
              "      <td>2.717033</td>\n",
              "    </tr>\n",
              "    <tr>\n",
              "      <th>True</th>\n",
              "      <td>0.131005</td>\n",
              "      <td>0.000000</td>\n",
              "      <td>0.000000</td>\n",
              "      <td>0.138906</td>\n",
              "      <td>0.028778</td>\n",
              "      <td>1.119947</td>\n",
              "      <td>1.271771</td>\n",
              "      <td>3.998386</td>\n",
              "      <td>0.000000</td>\n",
              "      <td>0.000000</td>\n",
              "      <td>0.138005</td>\n",
              "      <td>1.786332</td>\n",
              "      <td>1.095614</td>\n",
              "      <td>0.000000</td>\n",
              "      <td>0.487858</td>\n",
              "      <td>0.000000</td>\n",
              "      <td>0.000000</td>\n",
              "      <td>0.000000</td>\n",
              "      <td>2.985326</td>\n",
              "      <td>0.000000</td>\n",
              "    </tr>\n",
              "  </tbody>\n",
              "</table>\n",
              "</div>"
            ],
            "text/plain": [
              "            iCitizen    iClass  iDisabl1  ...   iWork89   iYearsch  prediction\n",
              "prediction                                ...                                 \n",
              "False       0.336004  1.613049  1.868816  ...  1.305904  10.112041    2.717033\n",
              "True        0.131005  0.000000  0.000000  ...  0.000000   2.985326    0.000000\n",
              "\n",
              "[2 rows x 20 columns]"
            ]
          },
          "metadata": {
            "tags": []
          },
          "execution_count": 144
        }
      ]
    },
    {
      "cell_type": "code",
      "metadata": {
        "id": "0qvZcmetTvzh"
      },
      "source": [
        "cluster_counts = km_pdf.prediction.value_counts()"
      ],
      "execution_count": null,
      "outputs": []
    },
    {
      "cell_type": "code",
      "metadata": {
        "colab": {
          "base_uri": "https://localhost:8080/",
          "height": 282
        },
        "id": "M4T7TkPrhFg1",
        "outputId": "ac9101c6-68d2-43d2-efe9-c4e965abb7d1"
      },
      "source": [
        "cluster_counts.plot.barh()"
      ],
      "execution_count": null,
      "outputs": [
        {
          "output_type": "execute_result",
          "data": {
            "text/plain": [
              "<matplotlib.axes._subplots.AxesSubplot at 0x7f2a208b36a0>"
            ]
          },
          "metadata": {
            "tags": []
          },
          "execution_count": 82
        },
        {
          "output_type": "display_data",
          "data": {
            "image/png": "[encoded data removed]",
            "text/plain": [
              "<Figure size 432x288 with 1 Axes>"
            ]
          },
          "metadata": {
            "tags": [],
            "needs_background": "light"
          }
        }
      ]
    },
    {
      "cell_type": "code",
      "metadata": {
        "colab": {
          "base_uri": "https://localhost:8080/",
          "height": 279
        },
        "id": "LxyU9wwFwtZR",
        "outputId": "36d4ea22-aa16-427b-be6a-f3a928baa820"
      },
      "source": [
        "import seaborn as sns\r\n",
        "sns.scatterplot(x=\"dAge\", y=\"iFertil\", hue=\"prediction\", \r\n",
        "                data=km_pdf, palette='Paired', s=60);\r\n",
        "plt.legend(loc='upper left');"
      ],
      "execution_count": null,
      "outputs": [
        {
          "output_type": "display_data",
          "data": {
            "image/png": "[encoded data removed]",
            "text/plain": [
              "<Figure size 432x288 with 1 Axes>"
            ]
          },
          "metadata": {
            "tags": [],
            "needs_background": "light"
          }
        }
      ]
    },
    {
      "cell_type": "code",
      "metadata": {
        "colab": {
          "base_uri": "https://localhost:8080/",
          "height": 279
        },
        "id": "ankc-8xp1Mnr",
        "outputId": "731eb351-585c-478c-a1db-0c28a26be436"
      },
      "source": [
        "import seaborn as sns\r\n",
        "sns.scatterplot(x=\"iYearsch\", y=\"dRearning\", hue=\"prediction\", \r\n",
        "                data=km_pdf, palette='Paired', s=60);\r\n",
        "plt.legend(loc='upper right');"
      ],
      "execution_count": null,
      "outputs": [
        {
          "output_type": "display_data",
          "data": {
            "image/png": "[encoded data removed]",
            "text/plain": [
              "<Figure size 432x288 with 1 Axes>"
            ]
          },
          "metadata": {
            "tags": [],
            "needs_background": "light"
          }
        }
      ]
    },
    {
      "cell_type": "code",
      "metadata": {
        "colab": {
          "base_uri": "https://localhost:8080/",
          "height": 1000
        },
        "id": "4c152-5Z1k_t",
        "outputId": "b1cd70d9-f81b-436b-cb93-6afd812fdb63"
      },
      "source": [
        "km_pdf.groupby('prediction').hist(column='dAge',alpha=0.5)"
      ],
      "execution_count": null,
      "outputs": [
        {
          "output_type": "execute_result",
          "data": {
            "text/plain": [
              "prediction\n",
              "0    [[AxesSubplot(0.125,0.125;0.775x0.755)]]\n",
              "1    [[AxesSubplot(0.125,0.125;0.775x0.755)]]\n",
              "2    [[AxesSubplot(0.125,0.125;0.775x0.755)]]\n",
              "3    [[AxesSubplot(0.125,0.125;0.775x0.755)]]\n",
              "4    [[AxesSubplot(0.125,0.125;0.775x0.755)]]\n",
              "dtype: object"
            ]
          },
          "metadata": {
            "tags": []
          },
          "execution_count": 143
        },
        {
          "output_type": "display_data",
          "data": {
            "image/png": "[encoded data removed]",
            "text/plain": [
              "<Figure size 432x288 with 1 Axes>"
            ]
          },
          "metadata": {
            "tags": [],
            "needs_background": "light"
          }
        },
        {
          "output_type": "display_data",
          "data": {
            "image/png": "[encoded data removed]",
            "text/plain": [
              "<Figure size 432x288 with 1 Axes>"
            ]
          },
          "metadata": {
            "tags": [],
            "needs_background": "light"
          }
        },
        {
          "output_type": "display_data",
          "data": {
            "image/png": "[encoded data removed]",
            "text/plain": [
              "<Figure size 432x288 with 1 Axes>"
            ]
          },
          "metadata": {
            "tags": [],
            "needs_background": "light"
          }
        },
        {
          "output_type": "display_data",
          "data": {
            "image/png": "[encoded data removed]",
            "text/plain": [
              "<Figure size 432x288 with 1 Axes>"
            ]
          },
          "metadata": {
            "tags": [],
            "needs_background": "light"
          }
        },
        {
          "output_type": "display_data",
          "data": {
            "image/png": "[encoded data removed]",
            "text/plain": [
              "<Figure size 432x288 with 1 Axes>"
            ]
          },
          "metadata": {
            "tags": [],
            "needs_background": "light"
          }
        }
      ]
    },
    {
      "cell_type": "code",
      "metadata": {
        "id": "XKvzUG8b8jLB"
      },
      "source": [
        ""
      ],
      "execution_count": null,
      "outputs": []
    },
    {
      "cell_type": "code",
      "metadata": {
        "colab": {
          "base_uri": "https://localhost:8080/",
          "height": 387
        },
        "id": "vMiWz_WPbWiU",
        "outputId": "7dc63fac-871b-465f-e103-ed88b94a29c4"
      },
      "source": [
        "import matplotlib.pyplot as plt\r\n",
        "from mpl_toolkits.mplot3d import Axes3D\r\n",
        "\r\n",
        "threedee = plt.figure(figsize=(12,10)).gca(projection='3d')\r\n",
        "threedee.scatter(km_pdf.iClass, km_pdf.iFertil, km_pdf.dRearning, c=km_pdf.prediction)\r\n",
        "threedee.set_xlabel('Age')\r\n",
        "threedee.set_ylabel('# of children')\r\n",
        "threedee.set_zlabel('Income')\r\n",
        "plt.legend()\r\n",
        "plt.show()"
      ],
      "execution_count": null,
      "outputs": [
        {
          "output_type": "stream",
          "text": [
            "No handles with labels found to put in legend.\n"
          ],
          "name": "stderr"
        },
        {
          "output_type": "error",
          "ename": "KeyboardInterrupt",
          "evalue": "ignored",
          "traceback": [
            "\u001b[0;31m---------------------------------------------------------------------------\u001b[0m",
            "\u001b[0;31mKeyboardInterrupt\u001b[0m                         Traceback (most recent call last)",
            "\u001b[0;32m<ipython-input-99-cf146a7f4fe7>\u001b[0m in \u001b[0;36m<module>\u001b[0;34m()\u001b[0m\n\u001b[1;32m      8\u001b[0m \u001b[0mthreedee\u001b[0m\u001b[0;34m.\u001b[0m\u001b[0mset_zlabel\u001b[0m\u001b[0;34m(\u001b[0m\u001b[0;34m'Income'\u001b[0m\u001b[0;34m)\u001b[0m\u001b[0;34m\u001b[0m\u001b[0;34m\u001b[0m\u001b[0m\n\u001b[1;32m      9\u001b[0m \u001b[0mplt\u001b[0m\u001b[0;34m.\u001b[0m\u001b[0mlegend\u001b[0m\u001b[0;34m(\u001b[0m\u001b[0;34m)\u001b[0m\u001b[0;34m\u001b[0m\u001b[0;34m\u001b[0m\u001b[0m\n\u001b[0;32m---> 10\u001b[0;31m \u001b[0mplt\u001b[0m\u001b[0;34m.\u001b[0m\u001b[0mshow\u001b[0m\u001b[0;34m(\u001b[0m\u001b[0;34m)\u001b[0m\u001b[0;34m\u001b[0m\u001b[0;34m\u001b[0m\u001b[0m\n\u001b[0m",
            "\u001b[0;32m/usr/local/lib/python3.6/dist-packages/matplotlib/pyplot.py\u001b[0m in \u001b[0;36mshow\u001b[0;34m(*args, **kw)\u001b[0m\n\u001b[1;32m    270\u001b[0m     \"\"\"\n\u001b[1;32m    271\u001b[0m     \u001b[0;32mglobal\u001b[0m \u001b[0m_show\u001b[0m\u001b[0;34m\u001b[0m\u001b[0;34m\u001b[0m\u001b[0m\n\u001b[0;32m--> 272\u001b[0;31m     \u001b[0;32mreturn\u001b[0m \u001b[0m_show\u001b[0m\u001b[0;34m(\u001b[0m\u001b[0;34m*\u001b[0m\u001b[0margs\u001b[0m\u001b[0;34m,\u001b[0m \u001b[0;34m**\u001b[0m\u001b[0mkw\u001b[0m\u001b[0;34m)\u001b[0m\u001b[0;34m\u001b[0m\u001b[0;34m\u001b[0m\u001b[0m\n\u001b[0m\u001b[1;32m    273\u001b[0m \u001b[0;34m\u001b[0m\u001b[0m\n\u001b[1;32m    274\u001b[0m \u001b[0;34m\u001b[0m\u001b[0m\n",
            "\u001b[0;32m/usr/local/lib/python3.6/dist-packages/ipykernel/pylab/backend_inline.py\u001b[0m in \u001b[0;36mshow\u001b[0;34m(close, block)\u001b[0m\n\u001b[1;32m     37\u001b[0m             display(\n\u001b[1;32m     38\u001b[0m                 \u001b[0mfigure_manager\u001b[0m\u001b[0;34m.\u001b[0m\u001b[0mcanvas\u001b[0m\u001b[0;34m.\u001b[0m\u001b[0mfigure\u001b[0m\u001b[0;34m,\u001b[0m\u001b[0;34m\u001b[0m\u001b[0;34m\u001b[0m\u001b[0m\n\u001b[0;32m---> 39\u001b[0;31m                 \u001b[0mmetadata\u001b[0m\u001b[0;34m=\u001b[0m\u001b[0m_fetch_figure_metadata\u001b[0m\u001b[0;34m(\u001b[0m\u001b[0mfigure_manager\u001b[0m\u001b[0;34m.\u001b[0m\u001b[0mcanvas\u001b[0m\u001b[0;34m.\u001b[0m\u001b[0mfigure\u001b[0m\u001b[0;34m)\u001b[0m\u001b[0;34m\u001b[0m\u001b[0;34m\u001b[0m\u001b[0m\n\u001b[0m\u001b[1;32m     40\u001b[0m             )\n\u001b[1;32m     41\u001b[0m     \u001b[0;32mfinally\u001b[0m\u001b[0;34m:\u001b[0m\u001b[0;34m\u001b[0m\u001b[0;34m\u001b[0m\u001b[0m\n",
            "\u001b[0;32m/usr/local/lib/python3.6/dist-packages/IPython/core/display.py\u001b[0m in \u001b[0;36mdisplay\u001b[0;34m(*objs, **kwargs)\u001b[0m\n\u001b[1;32m    304\u001b[0m             \u001b[0mpublish_display_data\u001b[0m\u001b[0;34m(\u001b[0m\u001b[0mdata\u001b[0m\u001b[0;34m=\u001b[0m\u001b[0mobj\u001b[0m\u001b[0;34m,\u001b[0m \u001b[0mmetadata\u001b[0m\u001b[0;34m=\u001b[0m\u001b[0mmetadata\u001b[0m\u001b[0;34m,\u001b[0m \u001b[0;34m**\u001b[0m\u001b[0mkwargs\u001b[0m\u001b[0;34m)\u001b[0m\u001b[0;34m\u001b[0m\u001b[0;34m\u001b[0m\u001b[0m\n\u001b[1;32m    305\u001b[0m         \u001b[0;32melse\u001b[0m\u001b[0;34m:\u001b[0m\u001b[0;34m\u001b[0m\u001b[0;34m\u001b[0m\u001b[0m\n\u001b[0;32m--> 306\u001b[0;31m             \u001b[0mformat_dict\u001b[0m\u001b[0;34m,\u001b[0m \u001b[0mmd_dict\u001b[0m \u001b[0;34m=\u001b[0m \u001b[0mformat\u001b[0m\u001b[0;34m(\u001b[0m\u001b[0mobj\u001b[0m\u001b[0;34m,\u001b[0m \u001b[0minclude\u001b[0m\u001b[0;34m=\u001b[0m\u001b[0minclude\u001b[0m\u001b[0;34m,\u001b[0m \u001b[0mexclude\u001b[0m\u001b[0;34m=\u001b[0m\u001b[0mexclude\u001b[0m\u001b[0;34m)\u001b[0m\u001b[0;34m\u001b[0m\u001b[0;34m\u001b[0m\u001b[0m\n\u001b[0m\u001b[1;32m    307\u001b[0m             \u001b[0;32mif\u001b[0m \u001b[0;32mnot\u001b[0m \u001b[0mformat_dict\u001b[0m\u001b[0;34m:\u001b[0m\u001b[0;34m\u001b[0m\u001b[0;34m\u001b[0m\u001b[0m\n\u001b[1;32m    308\u001b[0m                 \u001b[0;31m# nothing to display (e.g. _ipython_display_ took over)\u001b[0m\u001b[0;34m\u001b[0m\u001b[0;34m\u001b[0m\u001b[0;34m\u001b[0m\u001b[0m\n",
            "\u001b[0;32m/usr/local/lib/python3.6/dist-packages/IPython/core/formatters.py\u001b[0m in \u001b[0;36mformat\u001b[0;34m(self, obj, include, exclude)\u001b[0m\n\u001b[1;32m    171\u001b[0m             \u001b[0mmd\u001b[0m \u001b[0;34m=\u001b[0m \u001b[0;32mNone\u001b[0m\u001b[0;34m\u001b[0m\u001b[0;34m\u001b[0m\u001b[0m\n\u001b[1;32m    172\u001b[0m             \u001b[0;32mtry\u001b[0m\u001b[0;34m:\u001b[0m\u001b[0;34m\u001b[0m\u001b[0;34m\u001b[0m\u001b[0m\n\u001b[0;32m--> 173\u001b[0;31m                 \u001b[0mdata\u001b[0m \u001b[0;34m=\u001b[0m \u001b[0mformatter\u001b[0m\u001b[0;34m(\u001b[0m\u001b[0mobj\u001b[0m\u001b[0;34m)\u001b[0m\u001b[0;34m\u001b[0m\u001b[0;34m\u001b[0m\u001b[0m\n\u001b[0m\u001b[1;32m    174\u001b[0m             \u001b[0;32mexcept\u001b[0m\u001b[0;34m:\u001b[0m\u001b[0;34m\u001b[0m\u001b[0;34m\u001b[0m\u001b[0m\n\u001b[1;32m    175\u001b[0m                 \u001b[0;31m# FIXME: log the exception\u001b[0m\u001b[0;34m\u001b[0m\u001b[0;34m\u001b[0m\u001b[0;34m\u001b[0m\u001b[0m\n",
            "\u001b[0;32m<decorator-gen-9>\u001b[0m in \u001b[0;36m__call__\u001b[0;34m(self, obj)\u001b[0m\n",
            "\u001b[0;32m/usr/local/lib/python3.6/dist-packages/IPython/core/formatters.py\u001b[0m in \u001b[0;36mcatch_format_error\u001b[0;34m(method, self, *args, **kwargs)\u001b[0m\n\u001b[1;32m    215\u001b[0m     \u001b[0;34m\"\"\"show traceback on failed format call\"\"\"\u001b[0m\u001b[0;34m\u001b[0m\u001b[0;34m\u001b[0m\u001b[0m\n\u001b[1;32m    216\u001b[0m     \u001b[0;32mtry\u001b[0m\u001b[0;34m:\u001b[0m\u001b[0;34m\u001b[0m\u001b[0;34m\u001b[0m\u001b[0m\n\u001b[0;32m--> 217\u001b[0;31m         \u001b[0mr\u001b[0m \u001b[0;34m=\u001b[0m \u001b[0mmethod\u001b[0m\u001b[0;34m(\u001b[0m\u001b[0mself\u001b[0m\u001b[0;34m,\u001b[0m \u001b[0;34m*\u001b[0m\u001b[0margs\u001b[0m\u001b[0;34m,\u001b[0m \u001b[0;34m**\u001b[0m\u001b[0mkwargs\u001b[0m\u001b[0;34m)\u001b[0m\u001b[0;34m\u001b[0m\u001b[0;34m\u001b[0m\u001b[0m\n\u001b[0m\u001b[1;32m    218\u001b[0m     \u001b[0;32mexcept\u001b[0m \u001b[0mNotImplementedError\u001b[0m\u001b[0;34m:\u001b[0m\u001b[0;34m\u001b[0m\u001b[0;34m\u001b[0m\u001b[0m\n\u001b[1;32m    219\u001b[0m         \u001b[0;31m# don't warn on NotImplementedErrors\u001b[0m\u001b[0;34m\u001b[0m\u001b[0;34m\u001b[0m\u001b[0;34m\u001b[0m\u001b[0m\n",
            "\u001b[0;32m/usr/local/lib/python3.6/dist-packages/IPython/core/formatters.py\u001b[0m in \u001b[0;36m__call__\u001b[0;34m(self, obj)\u001b[0m\n\u001b[1;32m    332\u001b[0m                 \u001b[0;32mpass\u001b[0m\u001b[0;34m\u001b[0m\u001b[0;34m\u001b[0m\u001b[0m\n\u001b[1;32m    333\u001b[0m             \u001b[0;32melse\u001b[0m\u001b[0;34m:\u001b[0m\u001b[0;34m\u001b[0m\u001b[0;34m\u001b[0m\u001b[0m\n\u001b[0;32m--> 334\u001b[0;31m                 \u001b[0;32mreturn\u001b[0m \u001b[0mprinter\u001b[0m\u001b[0;34m(\u001b[0m\u001b[0mobj\u001b[0m\u001b[0;34m)\u001b[0m\u001b[0;34m\u001b[0m\u001b[0;34m\u001b[0m\u001b[0m\n\u001b[0m\u001b[1;32m    335\u001b[0m             \u001b[0;31m# Finally look for special method names\u001b[0m\u001b[0;34m\u001b[0m\u001b[0;34m\u001b[0m\u001b[0;34m\u001b[0m\u001b[0m\n\u001b[1;32m    336\u001b[0m             \u001b[0mmethod\u001b[0m \u001b[0;34m=\u001b[0m \u001b[0mget_real_method\u001b[0m\u001b[0;34m(\u001b[0m\u001b[0mobj\u001b[0m\u001b[0;34m,\u001b[0m \u001b[0mself\u001b[0m\u001b[0;34m.\u001b[0m\u001b[0mprint_method\u001b[0m\u001b[0;34m)\u001b[0m\u001b[0;34m\u001b[0m\u001b[0;34m\u001b[0m\u001b[0m\n",
            "\u001b[0;32m/usr/local/lib/python3.6/dist-packages/IPython/core/pylabtools.py\u001b[0m in \u001b[0;36m<lambda>\u001b[0;34m(fig)\u001b[0m\n\u001b[1;32m    239\u001b[0m \u001b[0;34m\u001b[0m\u001b[0m\n\u001b[1;32m    240\u001b[0m     \u001b[0;32mif\u001b[0m \u001b[0;34m'png'\u001b[0m \u001b[0;32min\u001b[0m \u001b[0mformats\u001b[0m\u001b[0;34m:\u001b[0m\u001b[0;34m\u001b[0m\u001b[0;34m\u001b[0m\u001b[0m\n\u001b[0;32m--> 241\u001b[0;31m         \u001b[0mpng_formatter\u001b[0m\u001b[0;34m.\u001b[0m\u001b[0mfor_type\u001b[0m\u001b[0;34m(\u001b[0m\u001b[0mFigure\u001b[0m\u001b[0;34m,\u001b[0m \u001b[0;32mlambda\u001b[0m \u001b[0mfig\u001b[0m\u001b[0;34m:\u001b[0m \u001b[0mprint_figure\u001b[0m\u001b[0;34m(\u001b[0m\u001b[0mfig\u001b[0m\u001b[0;34m,\u001b[0m \u001b[0;34m'png'\u001b[0m\u001b[0;34m,\u001b[0m \u001b[0;34m**\u001b[0m\u001b[0mkwargs\u001b[0m\u001b[0;34m)\u001b[0m\u001b[0;34m)\u001b[0m\u001b[0;34m\u001b[0m\u001b[0;34m\u001b[0m\u001b[0m\n\u001b[0m\u001b[1;32m    242\u001b[0m     \u001b[0;32mif\u001b[0m \u001b[0;34m'retina'\u001b[0m \u001b[0;32min\u001b[0m \u001b[0mformats\u001b[0m \u001b[0;32mor\u001b[0m \u001b[0;34m'png2x'\u001b[0m \u001b[0;32min\u001b[0m \u001b[0mformats\u001b[0m\u001b[0;34m:\u001b[0m\u001b[0;34m\u001b[0m\u001b[0;34m\u001b[0m\u001b[0m\n\u001b[1;32m    243\u001b[0m         \u001b[0mpng_formatter\u001b[0m\u001b[0;34m.\u001b[0m\u001b[0mfor_type\u001b[0m\u001b[0;34m(\u001b[0m\u001b[0mFigure\u001b[0m\u001b[0;34m,\u001b[0m \u001b[0;32mlambda\u001b[0m \u001b[0mfig\u001b[0m\u001b[0;34m:\u001b[0m \u001b[0mretina_figure\u001b[0m\u001b[0;34m(\u001b[0m\u001b[0mfig\u001b[0m\u001b[0;34m,\u001b[0m \u001b[0;34m**\u001b[0m\u001b[0mkwargs\u001b[0m\u001b[0;34m)\u001b[0m\u001b[0;34m)\u001b[0m\u001b[0;34m\u001b[0m\u001b[0;34m\u001b[0m\u001b[0m\n",
            "\u001b[0;32m/usr/local/lib/python3.6/dist-packages/IPython/core/pylabtools.py\u001b[0m in \u001b[0;36mprint_figure\u001b[0;34m(fig, fmt, bbox_inches, **kwargs)\u001b[0m\n\u001b[1;32m    123\u001b[0m \u001b[0;34m\u001b[0m\u001b[0m\n\u001b[1;32m    124\u001b[0m     \u001b[0mbytes_io\u001b[0m \u001b[0;34m=\u001b[0m \u001b[0mBytesIO\u001b[0m\u001b[0;34m(\u001b[0m\u001b[0;34m)\u001b[0m\u001b[0;34m\u001b[0m\u001b[0;34m\u001b[0m\u001b[0m\n\u001b[0;32m--> 125\u001b[0;31m     \u001b[0mfig\u001b[0m\u001b[0;34m.\u001b[0m\u001b[0mcanvas\u001b[0m\u001b[0;34m.\u001b[0m\u001b[0mprint_figure\u001b[0m\u001b[0;34m(\u001b[0m\u001b[0mbytes_io\u001b[0m\u001b[0;34m,\u001b[0m \u001b[0;34m**\u001b[0m\u001b[0mkw\u001b[0m\u001b[0;34m)\u001b[0m\u001b[0;34m\u001b[0m\u001b[0;34m\u001b[0m\u001b[0m\n\u001b[0m\u001b[1;32m    126\u001b[0m     \u001b[0mdata\u001b[0m \u001b[0;34m=\u001b[0m \u001b[0mbytes_io\u001b[0m\u001b[0;34m.\u001b[0m\u001b[0mgetvalue\u001b[0m\u001b[0;34m(\u001b[0m\u001b[0;34m)\u001b[0m\u001b[0;34m\u001b[0m\u001b[0;34m\u001b[0m\u001b[0m\n\u001b[1;32m    127\u001b[0m     \u001b[0;32mif\u001b[0m \u001b[0mfmt\u001b[0m \u001b[0;34m==\u001b[0m \u001b[0;34m'svg'\u001b[0m\u001b[0;34m:\u001b[0m\u001b[0;34m\u001b[0m\u001b[0;34m\u001b[0m\u001b[0m\n",
            "\u001b[0;32m/usr/local/lib/python3.6/dist-packages/matplotlib/backend_bases.py\u001b[0m in \u001b[0;36mprint_figure\u001b[0;34m(self, filename, dpi, facecolor, edgecolor, orientation, format, bbox_inches, **kwargs)\u001b[0m\n\u001b[1;32m   2098\u001b[0m                            else suppress())\n\u001b[1;32m   2099\u001b[0m                     \u001b[0;32mwith\u001b[0m \u001b[0mctx\u001b[0m\u001b[0;34m:\u001b[0m\u001b[0;34m\u001b[0m\u001b[0;34m\u001b[0m\u001b[0m\n\u001b[0;32m-> 2100\u001b[0;31m                         \u001b[0mself\u001b[0m\u001b[0;34m.\u001b[0m\u001b[0mfigure\u001b[0m\u001b[0;34m.\u001b[0m\u001b[0mdraw\u001b[0m\u001b[0;34m(\u001b[0m\u001b[0mrenderer\u001b[0m\u001b[0;34m)\u001b[0m\u001b[0;34m\u001b[0m\u001b[0;34m\u001b[0m\u001b[0m\n\u001b[0m\u001b[1;32m   2101\u001b[0m                     \u001b[0mbbox_artists\u001b[0m \u001b[0;34m=\u001b[0m \u001b[0mkwargs\u001b[0m\u001b[0;34m.\u001b[0m\u001b[0mpop\u001b[0m\u001b[0;34m(\u001b[0m\u001b[0;34m\"bbox_extra_artists\"\u001b[0m\u001b[0;34m,\u001b[0m \u001b[0;32mNone\u001b[0m\u001b[0;34m)\u001b[0m\u001b[0;34m\u001b[0m\u001b[0;34m\u001b[0m\u001b[0m\n\u001b[1;32m   2102\u001b[0m                     bbox_inches = self.figure.get_tightbbox(renderer,\n",
            "\u001b[0;32m/usr/local/lib/python3.6/dist-packages/matplotlib/artist.py\u001b[0m in \u001b[0;36mdraw_wrapper\u001b[0;34m(artist, renderer, *args, **kwargs)\u001b[0m\n\u001b[1;32m     36\u001b[0m                 \u001b[0mrenderer\u001b[0m\u001b[0;34m.\u001b[0m\u001b[0mstart_filter\u001b[0m\u001b[0;34m(\u001b[0m\u001b[0;34m)\u001b[0m\u001b[0;34m\u001b[0m\u001b[0;34m\u001b[0m\u001b[0m\n\u001b[1;32m     37\u001b[0m \u001b[0;34m\u001b[0m\u001b[0m\n\u001b[0;32m---> 38\u001b[0;31m             \u001b[0;32mreturn\u001b[0m \u001b[0mdraw\u001b[0m\u001b[0;34m(\u001b[0m\u001b[0martist\u001b[0m\u001b[0;34m,\u001b[0m \u001b[0mrenderer\u001b[0m\u001b[0;34m,\u001b[0m \u001b[0;34m*\u001b[0m\u001b[0margs\u001b[0m\u001b[0;34m,\u001b[0m \u001b[0;34m**\u001b[0m\u001b[0mkwargs\u001b[0m\u001b[0;34m)\u001b[0m\u001b[0;34m\u001b[0m\u001b[0;34m\u001b[0m\u001b[0m\n\u001b[0m\u001b[1;32m     39\u001b[0m         \u001b[0;32mfinally\u001b[0m\u001b[0;34m:\u001b[0m\u001b[0;34m\u001b[0m\u001b[0;34m\u001b[0m\u001b[0m\n\u001b[1;32m     40\u001b[0m             \u001b[0;32mif\u001b[0m \u001b[0martist\u001b[0m\u001b[0;34m.\u001b[0m\u001b[0mget_agg_filter\u001b[0m\u001b[0;34m(\u001b[0m\u001b[0;34m)\u001b[0m \u001b[0;32mis\u001b[0m \u001b[0;32mnot\u001b[0m \u001b[0;32mNone\u001b[0m\u001b[0;34m:\u001b[0m\u001b[0;34m\u001b[0m\u001b[0;34m\u001b[0m\u001b[0m\n",
            "\u001b[0;32m/usr/local/lib/python3.6/dist-packages/matplotlib/figure.py\u001b[0m in \u001b[0;36mdraw\u001b[0;34m(self, renderer)\u001b[0m\n\u001b[1;32m   1734\u001b[0m             \u001b[0mself\u001b[0m\u001b[0;34m.\u001b[0m\u001b[0mpatch\u001b[0m\u001b[0;34m.\u001b[0m\u001b[0mdraw\u001b[0m\u001b[0;34m(\u001b[0m\u001b[0mrenderer\u001b[0m\u001b[0;34m)\u001b[0m\u001b[0;34m\u001b[0m\u001b[0;34m\u001b[0m\u001b[0m\n\u001b[1;32m   1735\u001b[0m             mimage._draw_list_compositing_images(\n\u001b[0;32m-> 1736\u001b[0;31m                 renderer, self, artists, self.suppressComposite)\n\u001b[0m\u001b[1;32m   1737\u001b[0m \u001b[0;34m\u001b[0m\u001b[0m\n\u001b[1;32m   1738\u001b[0m             \u001b[0mrenderer\u001b[0m\u001b[0;34m.\u001b[0m\u001b[0mclose_group\u001b[0m\u001b[0;34m(\u001b[0m\u001b[0;34m'figure'\u001b[0m\u001b[0;34m)\u001b[0m\u001b[0;34m\u001b[0m\u001b[0;34m\u001b[0m\u001b[0m\n",
            "\u001b[0;32m/usr/local/lib/python3.6/dist-packages/matplotlib/image.py\u001b[0m in \u001b[0;36m_draw_list_compositing_images\u001b[0;34m(renderer, parent, artists, suppress_composite)\u001b[0m\n\u001b[1;32m    135\u001b[0m     \u001b[0;32mif\u001b[0m \u001b[0mnot_composite\u001b[0m \u001b[0;32mor\u001b[0m \u001b[0;32mnot\u001b[0m \u001b[0mhas_images\u001b[0m\u001b[0;34m:\u001b[0m\u001b[0;34m\u001b[0m\u001b[0;34m\u001b[0m\u001b[0m\n\u001b[1;32m    136\u001b[0m         \u001b[0;32mfor\u001b[0m \u001b[0ma\u001b[0m \u001b[0;32min\u001b[0m \u001b[0martists\u001b[0m\u001b[0;34m:\u001b[0m\u001b[0;34m\u001b[0m\u001b[0;34m\u001b[0m\u001b[0m\n\u001b[0;32m--> 137\u001b[0;31m             \u001b[0ma\u001b[0m\u001b[0;34m.\u001b[0m\u001b[0mdraw\u001b[0m\u001b[0;34m(\u001b[0m\u001b[0mrenderer\u001b[0m\u001b[0;34m)\u001b[0m\u001b[0;34m\u001b[0m\u001b[0;34m\u001b[0m\u001b[0m\n\u001b[0m\u001b[1;32m    138\u001b[0m     \u001b[0;32melse\u001b[0m\u001b[0;34m:\u001b[0m\u001b[0;34m\u001b[0m\u001b[0;34m\u001b[0m\u001b[0m\n\u001b[1;32m    139\u001b[0m         \u001b[0;31m# Composite any adjacent images together\u001b[0m\u001b[0;34m\u001b[0m\u001b[0;34m\u001b[0m\u001b[0;34m\u001b[0m\u001b[0m\n",
            "\u001b[0;32m/usr/local/lib/python3.6/dist-packages/matplotlib/artist.py\u001b[0m in \u001b[0;36mdraw_wrapper\u001b[0;34m(artist, renderer, *args, **kwargs)\u001b[0m\n\u001b[1;32m     36\u001b[0m                 \u001b[0mrenderer\u001b[0m\u001b[0;34m.\u001b[0m\u001b[0mstart_filter\u001b[0m\u001b[0;34m(\u001b[0m\u001b[0;34m)\u001b[0m\u001b[0;34m\u001b[0m\u001b[0;34m\u001b[0m\u001b[0m\n\u001b[1;32m     37\u001b[0m \u001b[0;34m\u001b[0m\u001b[0m\n\u001b[0;32m---> 38\u001b[0;31m             \u001b[0;32mreturn\u001b[0m \u001b[0mdraw\u001b[0m\u001b[0;34m(\u001b[0m\u001b[0martist\u001b[0m\u001b[0;34m,\u001b[0m \u001b[0mrenderer\u001b[0m\u001b[0;34m,\u001b[0m \u001b[0;34m*\u001b[0m\u001b[0margs\u001b[0m\u001b[0;34m,\u001b[0m \u001b[0;34m**\u001b[0m\u001b[0mkwargs\u001b[0m\u001b[0;34m)\u001b[0m\u001b[0;34m\u001b[0m\u001b[0;34m\u001b[0m\u001b[0m\n\u001b[0m\u001b[1;32m     39\u001b[0m         \u001b[0;32mfinally\u001b[0m\u001b[0;34m:\u001b[0m\u001b[0;34m\u001b[0m\u001b[0;34m\u001b[0m\u001b[0m\n\u001b[1;32m     40\u001b[0m             \u001b[0;32mif\u001b[0m \u001b[0martist\u001b[0m\u001b[0;34m.\u001b[0m\u001b[0mget_agg_filter\u001b[0m\u001b[0;34m(\u001b[0m\u001b[0;34m)\u001b[0m \u001b[0;32mis\u001b[0m \u001b[0;32mnot\u001b[0m \u001b[0;32mNone\u001b[0m\u001b[0;34m:\u001b[0m\u001b[0;34m\u001b[0m\u001b[0;34m\u001b[0m\u001b[0m\n",
            "\u001b[0;32m/usr/local/lib/python3.6/dist-packages/mpl_toolkits/mplot3d/axes3d.py\u001b[0m in \u001b[0;36mdraw\u001b[0;34m(self, renderer)\u001b[0m\n\u001b[1;32m    291\u001b[0m                 sorted(self.collections,\n\u001b[1;32m    292\u001b[0m                        \u001b[0mkey\u001b[0m\u001b[0;34m=\u001b[0m\u001b[0;32mlambda\u001b[0m \u001b[0mcol\u001b[0m\u001b[0;34m:\u001b[0m \u001b[0mcol\u001b[0m\u001b[0;34m.\u001b[0m\u001b[0mdo_3d_projection\u001b[0m\u001b[0;34m(\u001b[0m\u001b[0mrenderer\u001b[0m\u001b[0;34m)\u001b[0m\u001b[0;34m,\u001b[0m\u001b[0;34m\u001b[0m\u001b[0;34m\u001b[0m\u001b[0m\n\u001b[0;32m--> 293\u001b[0;31m                        reverse=True)):\n\u001b[0m\u001b[1;32m    294\u001b[0m             \u001b[0mcol\u001b[0m\u001b[0;34m.\u001b[0m\u001b[0mzorder\u001b[0m \u001b[0;34m=\u001b[0m \u001b[0mzorder_offset\u001b[0m \u001b[0;34m+\u001b[0m \u001b[0mi\u001b[0m\u001b[0;34m\u001b[0m\u001b[0;34m\u001b[0m\u001b[0m\n\u001b[1;32m    295\u001b[0m         for i, patch in enumerate(\n",
            "\u001b[0;32m/usr/local/lib/python3.6/dist-packages/mpl_toolkits/mplot3d/axes3d.py\u001b[0m in \u001b[0;36m<lambda>\u001b[0;34m(col)\u001b[0m\n\u001b[1;32m    290\u001b[0m         for i, col in enumerate(\n\u001b[1;32m    291\u001b[0m                 sorted(self.collections,\n\u001b[0;32m--> 292\u001b[0;31m                        \u001b[0mkey\u001b[0m\u001b[0;34m=\u001b[0m\u001b[0;32mlambda\u001b[0m \u001b[0mcol\u001b[0m\u001b[0;34m:\u001b[0m \u001b[0mcol\u001b[0m\u001b[0;34m.\u001b[0m\u001b[0mdo_3d_projection\u001b[0m\u001b[0;34m(\u001b[0m\u001b[0mrenderer\u001b[0m\u001b[0;34m)\u001b[0m\u001b[0;34m,\u001b[0m\u001b[0;34m\u001b[0m\u001b[0;34m\u001b[0m\u001b[0m\n\u001b[0m\u001b[1;32m    293\u001b[0m                        reverse=True)):\n\u001b[1;32m    294\u001b[0m             \u001b[0mcol\u001b[0m\u001b[0;34m.\u001b[0m\u001b[0mzorder\u001b[0m \u001b[0;34m=\u001b[0m \u001b[0mzorder_offset\u001b[0m \u001b[0;34m+\u001b[0m \u001b[0mi\u001b[0m\u001b[0;34m\u001b[0m\u001b[0;34m\u001b[0m\u001b[0m\n",
            "\u001b[0;32m/usr/local/lib/python3.6/dist-packages/mpl_toolkits/mplot3d/art3d.py\u001b[0m in \u001b[0;36mdo_3d_projection\u001b[0;34m(self, renderer)\u001b[0m\n\u001b[1;32m    536\u001b[0m     \u001b[0;32mdef\u001b[0m \u001b[0mdo_3d_projection\u001b[0m\u001b[0;34m(\u001b[0m\u001b[0mself\u001b[0m\u001b[0;34m,\u001b[0m \u001b[0mrenderer\u001b[0m\u001b[0;34m)\u001b[0m\u001b[0;34m:\u001b[0m\u001b[0;34m\u001b[0m\u001b[0;34m\u001b[0m\u001b[0m\n\u001b[1;32m    537\u001b[0m         \u001b[0mxs\u001b[0m\u001b[0;34m,\u001b[0m \u001b[0mys\u001b[0m\u001b[0;34m,\u001b[0m \u001b[0mzs\u001b[0m \u001b[0;34m=\u001b[0m \u001b[0mself\u001b[0m\u001b[0;34m.\u001b[0m\u001b[0m_offsets3d\u001b[0m\u001b[0;34m\u001b[0m\u001b[0;34m\u001b[0m\u001b[0m\n\u001b[0;32m--> 538\u001b[0;31m         \u001b[0mvxs\u001b[0m\u001b[0;34m,\u001b[0m \u001b[0mvys\u001b[0m\u001b[0;34m,\u001b[0m \u001b[0mvzs\u001b[0m\u001b[0;34m,\u001b[0m \u001b[0mvis\u001b[0m \u001b[0;34m=\u001b[0m \u001b[0mproj3d\u001b[0m\u001b[0;34m.\u001b[0m\u001b[0mproj_transform_clip\u001b[0m\u001b[0;34m(\u001b[0m\u001b[0mxs\u001b[0m\u001b[0;34m,\u001b[0m \u001b[0mys\u001b[0m\u001b[0;34m,\u001b[0m \u001b[0mzs\u001b[0m\u001b[0;34m,\u001b[0m \u001b[0mrenderer\u001b[0m\u001b[0;34m.\u001b[0m\u001b[0mM\u001b[0m\u001b[0;34m)\u001b[0m\u001b[0;34m\u001b[0m\u001b[0;34m\u001b[0m\u001b[0m\n\u001b[0m\u001b[1;32m    539\u001b[0m \u001b[0;34m\u001b[0m\u001b[0m\n\u001b[1;32m    540\u001b[0m         fcs = (_zalpha(self._facecolor3d, vzs) if self._depthshade else\n",
            "\u001b[0;32m/usr/local/lib/python3.6/dist-packages/mpl_toolkits/mplot3d/proj3d.py\u001b[0m in \u001b[0;36mproj_transform_clip\u001b[0;34m(xs, ys, zs, M)\u001b[0m\n\u001b[1;32m    212\u001b[0m     \u001b[0mreturns\u001b[0m \u001b[0mtxs\u001b[0m\u001b[0;34m,\u001b[0m \u001b[0mtys\u001b[0m\u001b[0;34m,\u001b[0m \u001b[0mtzs\u001b[0m\u001b[0;34m,\u001b[0m \u001b[0mtis\u001b[0m\u001b[0;34m\u001b[0m\u001b[0;34m\u001b[0m\u001b[0m\n\u001b[1;32m    213\u001b[0m     \"\"\"\n\u001b[0;32m--> 214\u001b[0;31m     \u001b[0mvec\u001b[0m \u001b[0;34m=\u001b[0m \u001b[0m_vec_pad_ones\u001b[0m\u001b[0;34m(\u001b[0m\u001b[0mxs\u001b[0m\u001b[0;34m,\u001b[0m \u001b[0mys\u001b[0m\u001b[0;34m,\u001b[0m \u001b[0mzs\u001b[0m\u001b[0;34m)\u001b[0m\u001b[0;34m\u001b[0m\u001b[0;34m\u001b[0m\u001b[0m\n\u001b[0m\u001b[1;32m    215\u001b[0m     \u001b[0;32mreturn\u001b[0m \u001b[0m_proj_transform_vec_clip\u001b[0m\u001b[0;34m(\u001b[0m\u001b[0mvec\u001b[0m\u001b[0;34m,\u001b[0m \u001b[0mM\u001b[0m\u001b[0;34m)\u001b[0m\u001b[0;34m\u001b[0m\u001b[0;34m\u001b[0m\u001b[0m\n\u001b[1;32m    216\u001b[0m \u001b[0;34m\u001b[0m\u001b[0m\n",
            "\u001b[0;32m/usr/local/lib/python3.6/dist-packages/mpl_toolkits/mplot3d/proj3d.py\u001b[0m in \u001b[0;36m_vec_pad_ones\u001b[0;34m(xs, ys, zs)\u001b[0m\n\u001b[1;32m    187\u001b[0m \u001b[0;34m\u001b[0m\u001b[0m\n\u001b[1;32m    188\u001b[0m \u001b[0;32mdef\u001b[0m \u001b[0m_vec_pad_ones\u001b[0m\u001b[0;34m(\u001b[0m\u001b[0mxs\u001b[0m\u001b[0;34m,\u001b[0m \u001b[0mys\u001b[0m\u001b[0;34m,\u001b[0m \u001b[0mzs\u001b[0m\u001b[0;34m)\u001b[0m\u001b[0;34m:\u001b[0m\u001b[0;34m\u001b[0m\u001b[0;34m\u001b[0m\u001b[0m\n\u001b[0;32m--> 189\u001b[0;31m     \u001b[0;32mreturn\u001b[0m \u001b[0mnp\u001b[0m\u001b[0;34m.\u001b[0m\u001b[0marray\u001b[0m\u001b[0;34m(\u001b[0m\u001b[0;34m[\u001b[0m\u001b[0mxs\u001b[0m\u001b[0;34m,\u001b[0m \u001b[0mys\u001b[0m\u001b[0;34m,\u001b[0m \u001b[0mzs\u001b[0m\u001b[0;34m,\u001b[0m \u001b[0mnp\u001b[0m\u001b[0;34m.\u001b[0m\u001b[0mones_like\u001b[0m\u001b[0;34m(\u001b[0m\u001b[0mxs\u001b[0m\u001b[0;34m)\u001b[0m\u001b[0;34m]\u001b[0m\u001b[0;34m)\u001b[0m\u001b[0;34m\u001b[0m\u001b[0;34m\u001b[0m\u001b[0m\n\u001b[0m\u001b[1;32m    190\u001b[0m \u001b[0;34m\u001b[0m\u001b[0m\n\u001b[1;32m    191\u001b[0m \u001b[0;34m\u001b[0m\u001b[0m\n",
            "\u001b[0;31mKeyboardInterrupt\u001b[0m: "
          ]
        }
      ]
    },
    {
      "cell_type": "code",
      "metadata": {
        "id": "HmL9so2XeIF2"
      },
      "source": [
        ""
      ],
      "execution_count": null,
      "outputs": []
    },
    {
      "cell_type": "code",
      "metadata": {
        "colab": {
          "base_uri": "https://localhost:8080/"
        },
        "id": "TptRChmKHibv",
        "outputId": "0c4d5492-b57c-409b-d06b-35f8233aca93"
      },
      "source": [
        "km_centers = km_model.clusterCenters()\r\n",
        "print(km_centers)"
      ],
      "execution_count": null,
      "outputs": [
        {
          "output_type": "stream",
          "text": [
            "[array([8.91836358e-01, 7.10843921e-02, 6.07776146e-03, 7.31471746e-03,\n",
            "       4.31017185e-03, 4.04886823e-03, 6.55756126e-03, 1.86033902e-03,\n",
            "       3.27030833e-03, 5.12346819e-01, 1.54893289e-01, 8.80068777e-01,\n",
            "       6.48835594e-02, 2.81753071e-02, 1.85240181e-02, 6.58851638e-01,\n",
            "       8.17041990e-02, 4.80290306e-02, 7.89814688e-02, 5.71594960e-02,\n",
            "       3.28894739e-02, 1.74600754e-02, 9.70479827e-03, 5.58547616e-03,\n",
            "       3.55479929e-03, 2.14750544e-03, 1.51520421e-03, 8.72201131e-04,\n",
            "       2.86889961e-02, 3.93514320e-01, 1.32954488e-01, 4.06081864e-02,\n",
            "       4.60438366e-02, 3.69704477e-02, 8.99490859e-02, 1.63645622e-01,\n",
            "       1.19931223e-01, 2.62358635e-01, 9.79745849e-02, 2.79015180e-02,\n",
            "       9.55675595e-03, 9.99251762e-01, 0.00000000e+00, 0.00000000e+00,\n",
            "       0.00000000e+00, 0.00000000e+00, 0.00000000e+00, 0.00000000e+00,\n",
            "       0.00000000e+00, 0.00000000e+00, 0.00000000e+00, 0.00000000e+00,\n",
            "       7.48237984e-04, 5.12346819e-01, 3.38892055e-05, 6.65780196e-02,\n",
            "       2.79229217e-03, 9.24900629e-01, 4.95852586e-03, 1.97030057e-02,\n",
            "       1.69499537e-02, 2.92437089e-02, 8.16908216e-04, 2.72701086e-02,\n",
            "       1.92817094e-01, 1.83482401e-01, 5.64315915e-01, 2.25711919e-01,\n",
            "       9.99796665e-01, 8.02639077e-06, 1.68554206e-04, 1.87282451e-05,\n",
            "       6.24274838e-06, 4.23437596e-01, 5.74124165e-01, 2.11361624e-03,\n",
            "       2.80477766e-03, 1.00000000e+00, 0.00000000e+00, 0.00000000e+00,\n",
            "       0.00000000e+00, 0.00000000e+00, 0.00000000e+00, 5.12346819e-01,\n",
            "       1.28511434e-03, 9.79522893e-02, 7.68161270e-02, 3.41041344e-02,\n",
            "       3.66324475e-02, 1.48093153e-01, 1.98000359e-01, 5.03254701e-02,\n",
            "       4.64032405e-02, 3.36519810e-02, 2.43707978e-02, 1.38404407e-01,\n",
            "       6.06590024e-02, 7.61972031e-03, 6.45767729e-03, 2.80888004e-02,\n",
            "       8.28680256e-03, 3.08124224e-03]), array([0.00000000e+00, 6.84086217e-01, 4.06612723e-02, 5.61230469e-02,\n",
            "       3.72726004e-02, 5.37220982e-02, 8.92131696e-02, 3.51213728e-02,\n",
            "       3.80022321e-03, 0.00000000e+00, 6.20717076e-02, 8.67707868e-01,\n",
            "       7.33733259e-02, 3.13281250e-02, 2.06389509e-02, 1.00000000e+00,\n",
            "       0.00000000e+00, 0.00000000e+00, 0.00000000e+00, 0.00000000e+00,\n",
            "       0.00000000e+00, 0.00000000e+00, 0.00000000e+00, 0.00000000e+00,\n",
            "       0.00000000e+00, 0.00000000e+00, 0.00000000e+00, 0.00000000e+00,\n",
            "       0.00000000e+00, 0.00000000e+00, 6.80385045e-02, 2.39980469e-01,\n",
            "       2.62525112e-01, 2.00016741e-01, 1.78028739e-01, 0.00000000e+00,\n",
            "       1.32292132e-01, 6.27078683e-01, 9.46568080e-03, 7.21484375e-02,\n",
            "       1.82142857e-02, 1.45018136e-01, 7.51272321e-01, 1.71010045e-02,\n",
            "       4.24107143e-04, 9.68470982e-03, 4.67215402e-03, 3.04129464e-04,\n",
            "       7.33816964e-04, 2.88364955e-03, 4.73074777e-03, 3.17424665e-02,\n",
            "       2.43373326e-02, 0.00000000e+00, 1.87709263e-02, 2.68317522e-01,\n",
            "       3.71902902e-02, 8.97597656e-01, 4.81166295e-03, 2.03934152e-02,\n",
            "       2.36886161e-02, 4.73144531e-02, 2.09681920e-03, 2.15206473e-02,\n",
            "       6.37862723e-02, 1.64125279e-01, 5.54189453e-01, 2.52700893e-01,\n",
            "       2.08384487e-02, 4.23549107e-03, 3.42511161e-01, 3.01455078e-01,\n",
            "       2.59448940e-01, 1.00000000e+00, 8.72194475e-01, 1.98521205e-02,\n",
            "       1.30357143e-02, 1.69355469e-01, 1.31301618e-01, 1.19814453e-01,\n",
            "       1.32626953e-01, 1.64354074e-01, 2.21722935e-01, 0.00000000e+00,\n",
            "       9.81692243e-01, 0.00000000e+00, 7.19168527e-03, 2.92968750e-05,\n",
            "       6.83593750e-05, 8.02176339e-03, 4.65834263e-02, 2.87862723e-02,\n",
            "       4.40039063e-02, 4.52301897e-02, 3.52511161e-02, 2.92798549e-01,\n",
            "       2.12498605e-01, 3.23018973e-02, 2.74930246e-02, 1.38475167e-01,\n",
            "       4.77246094e-02, 2.26436942e-02]), array([0.00000000e+00, 6.67364847e-01, 8.83415245e-02, 8.52746927e-02,\n",
            "       5.39807541e-02, 3.21178876e-02, 5.27004889e-02, 1.38894264e-02,\n",
            "       6.33037937e-03, 0.00000000e+00, 4.66780826e-02, 8.79313236e-01,\n",
            "       7.36781342e-02, 2.53860145e-02, 1.60549127e-02, 0.00000000e+00,\n",
            "       3.35903538e-01, 1.62706552e-01, 2.43313275e-01, 1.41211318e-01,\n",
            "       6.35682314e-02, 2.74176696e-02, 1.27655663e-02, 6.06916657e-03,\n",
            "       3.19098848e-03, 1.69143351e-03, 8.91670859e-04, 5.06301356e-04,\n",
            "       0.00000000e+00, 0.00000000e+00, 7.20092747e-02, 2.47350786e-01,\n",
            "       2.65611496e-01, 2.06387137e-01, 1.65736298e-01, 0.00000000e+00,\n",
            "       1.20686764e-01, 5.67402577e-01, 4.65232899e-02, 1.14067761e-01,\n",
            "       2.78497994e-02, 1.85717464e-01, 7.03154225e-01, 2.68468713e-02,\n",
            "       5.46611973e-04, 1.12144138e-02, 3.13939089e-03, 2.37026431e-04,\n",
            "       1.44312011e-03, 2.38638856e-04, 1.42860828e-03, 3.23887749e-02,\n",
            "       2.88027424e-02, 0.00000000e+00, 2.66695045e-03, 1.15401236e-02,\n",
            "       2.70403622e-03, 9.09807412e-01, 4.41643125e-03, 2.02294803e-02,\n",
            "       2.27061646e-02, 3.77662113e-02, 1.39797221e-03, 1.38055803e-02,\n",
            "       8.11839712e-02, 1.61402100e-01, 5.63595643e-01, 2.49350193e-01,\n",
            "       3.32546470e-02, 2.83625505e-03, 5.70259794e-01, 2.86371464e-01,\n",
            "       9.72695200e-02, 0.00000000e+00, 8.30922758e-01, 1.12273132e-02,\n",
            "       1.73222785e-02, 2.14520207e-01, 1.47983502e-01, 1.35380790e-01,\n",
            "       1.39210299e-01, 1.56943746e-01, 1.70996027e-01, 0.00000000e+00,\n",
            "       9.71345601e-01, 0.00000000e+00, 4.93724443e-03, 6.12721386e-05,\n",
            "       4.67603163e-05, 4.58896070e-03, 2.88172542e-02, 2.13839764e-02,\n",
            "       3.80016253e-02, 4.29824052e-02, 3.14503438e-02, 3.18882783e-01,\n",
            "       2.35059273e-01, 4.20858971e-02, 3.62779433e-02, 1.34131161e-01,\n",
            "       4.67393548e-02, 1.06097545e-02])]\n"
          ],
          "name": "stdout"
        }
      ]
    },
    {
      "cell_type": "code",
      "metadata": {
        "colab": {
          "base_uri": "https://localhost:8080/"
        },
        "id": "eiZEwyoHHrFt",
        "outputId": "13b891f0-0070-4b67-a5a3-4a104461173e"
      },
      "source": [
        "#cost = error value - how far the datapoint is from the cluster center\r\n",
        "km_cost = km_model.computeCost(df_cluster)\r\n",
        "print(km_cost)"
      ],
      "execution_count": null,
      "outputs": [
        {
          "output_type": "stream",
          "text": [
            "14254282.768579142\n"
          ],
          "name": "stdout"
        }
      ]
    },
    {
      "cell_type": "code",
      "metadata": {
        "colab": {
          "base_uri": "https://localhost:8080/",
          "height": 293
        },
        "id": "zjuusH2yHtrE",
        "outputId": "22370eaa-6810-4d83-d14d-edf0941016a7"
      },
      "source": [
        "costs = []\r\n",
        "for k in range(2, 10):\r\n",
        "  km_model = KMeans(k=k).fit(df_cluster)\r\n",
        "  costs.append(km_model.computeCost(df_cluster))\r\n",
        "\r\n",
        "import matplotlib.pyplot as plt\r\n",
        "plt.plot(range(2,10), costs)"
      ],
      "execution_count": null,
      "outputs": [
        {
          "output_type": "execute_result",
          "data": {
            "text/plain": [
              "[<matplotlib.lines.Line2D at 0x7f2a3915ee10>]"
            ]
          },
          "metadata": {
            "tags": []
          },
          "execution_count": 41
        },
        {
          "output_type": "display_data",
          "data": {
            "image/png": "[encoded data removed]",
            "text/plain": [
              "<Figure size 432x288 with 1 Axes>"
            ]
          },
          "metadata": {
            "tags": [],
            "needs_background": "light"
          }
        }
      ]
    },
    {
      "cell_type": "code",
      "metadata": {
        "colab": {
          "base_uri": "https://localhost:8080/"
        },
        "id": "XRFaBm-bVUuv",
        "outputId": "d4e2ca59-7287-4073-c909-a2e9be6cfd30"
      },
      "source": [
        "from pyspark.ml.evaluation import ClusteringEvaluator\r\n",
        "evaluator = ClusteringEvaluator()\r\n",
        "silhouette = evaluator.evaluate(predicted)\r\n",
        "print(silhouette)"
      ],
      "execution_count": null,
      "outputs": [
        {
          "output_type": "stream",
          "text": [
            "0.27251840167195557\n"
          ],
          "name": "stdout"
        }
      ]
    },
    {
      "cell_type": "code",
      "metadata": {
        "id": "1CCcz-m_eyQC"
      },
      "source": [
        "silhouettes = []\r\n",
        "for k in range(2, 10):\r\n",
        "  predicted = KMeans(k=k).fit(df_cluster).transform(df_cluster)\r\n",
        "  silhouettes.append(evaluator.evaluate(predicted))"
      ],
      "execution_count": null,
      "outputs": []
    },
    {
      "cell_type": "code",
      "metadata": {
        "colab": {
          "base_uri": "https://localhost:8080/",
          "height": 336
        },
        "id": "cURqhPqXe2hA",
        "outputId": "e2f94c1c-5b98-467a-90bc-4e0456e98229"
      },
      "source": [
        "fig, axes = plt.subplots(nrows=1, ncols=2, figsize=(15,5))\r\n",
        "axes[0].plot(range(2,10), costs)\r\n",
        "axes[0].title.set_text('Cost vs k')\r\n",
        "axes[1].plot(range(2,10), silhouettes)\r\n",
        "axes[1].title.set_text('Silhouette vs k')"
      ],
      "execution_count": null,
      "outputs": [
        {
          "output_type": "display_data",
          "data": {
            "image/png": "[encoded data removed]",
            "text/plain": [
              "<Figure size 1080x360 with 2 Axes>"
            ]
          },
          "metadata": {
            "tags": [],
            "needs_background": "light"
          }
        }
      ]
    },
    {
      "cell_type": "code",
      "metadata": {
        "colab": {
          "base_uri": "https://localhost:8080/"
        },
        "id": "ViHlIdtOLHGx",
        "outputId": "8f74e307-327a-4cdc-aa5b-7c28ea9be3e4"
      },
      "source": [
        "print(silhouettes)"
      ],
      "execution_count": null,
      "outputs": [
        {
          "output_type": "stream",
          "text": [
            "[0.3502695127706758, 0.27251840167195557, 0.26263210590271685, 0.28868758782249515, 0.2723189183952895, 0.2813981948152405, 0.2600252707602308, 0.23173086144558283]\n"
          ],
          "name": "stdout"
        }
      ]
    },
    {
      "cell_type": "code",
      "metadata": {
        "id": "Occo5gzzseXC"
      },
      "source": [
        "#Hierarchical Clustering\r\n",
        "from pyspark.ml.clustering import BisectingKMeans\r\n",
        "bkm = BisectingKMeans().setK(3).setSeed(1)\r\n",
        "bkm_model = bkm.fit(df_cluster)"
      ],
      "execution_count": null,
      "outputs": []
    },
    {
      "cell_type": "code",
      "metadata": {
        "colab": {
          "base_uri": "https://localhost:8080/"
        },
        "id": "i5v-YhTgsk7L",
        "outputId": "ab6f87d1-669e-4ecf-a0de-423af114b11a"
      },
      "source": [
        "# Shows the result.\r\n",
        "print(\"Cluster Centers: \")\r\n",
        "bkm_centers = bkm_model.clusterCenters()\r\n",
        "for center in bkm_centers:\r\n",
        "    print(center)"
      ],
      "execution_count": null,
      "outputs": [
        {
          "output_type": "stream",
          "text": [
            "Cluster Centers: \n",
            "[0.00000000e+00 6.68208519e-01 8.85130939e-02 8.54757530e-02\n",
            " 5.41141574e-02 3.21880499e-02 5.21927725e-02 1.38475572e-02\n",
            " 5.46009730e-03 0.00000000e+00 4.66065237e-02 8.79345759e-01\n",
            " 7.36579417e-02 2.53807189e-02 1.60535918e-02 0.00000000e+00\n",
            " 3.36297355e-01 1.62722544e-01 2.42987268e-01 1.41134458e-01\n",
            " 6.35658188e-02 2.74250207e-02 1.27687998e-02 6.06982973e-03\n",
            " 3.18128299e-03 1.68687248e-03 8.91147397e-04 5.04606148e-04\n",
            " 0.00000000e+00 0.00000000e+00 7.21166287e-02 2.47362139e-01\n",
            " 2.65537664e-01 2.06430817e-01 1.65698427e-01 0.00000000e+00\n",
            " 1.20654241e-01 5.66609629e-01 4.65596212e-02 1.14314318e-01\n",
            " 2.78859590e-02 1.84571020e-01 7.05292219e-01 2.69187972e-02\n",
            " 5.48273988e-04 1.12468947e-02 3.14893645e-03 2.37747128e-04\n",
            " 1.44750802e-03 2.39364455e-04 1.43295208e-03 3.24743168e-02\n",
            " 2.75867534e-02 0.00000000e+00 2.67020754e-03 1.15687429e-02\n",
            " 2.71225805e-03 9.09811355e-01 4.41368647e-03 2.02101232e-02\n",
            " 2.27137460e-02 3.77856200e-02 1.39575355e-03 1.38038893e-02\n",
            " 8.09084205e-02 1.61271802e-01 5.63656389e-01 2.49396737e-01\n",
            " 3.03588526e-02 2.82061898e-03 5.71980773e-01 2.87242198e-01\n",
            " 9.75604234e-02 0.00000000e+00 8.31134846e-01 1.12420427e-02\n",
            " 1.73555403e-02 2.12157774e-01 1.48426987e-01 1.35790808e-01\n",
            " 1.39631961e-01 1.57417710e-01 1.71512719e-01 0.00000000e+00\n",
            " 9.73369087e-01 0.00000000e+00 4.94255253e-03 6.14584412e-05\n",
            " 4.69024946e-05 4.58997516e-03 2.88223916e-02 2.14004761e-02\n",
            " 3.80152805e-02 4.30144395e-02 3.14780432e-02 3.18534249e-01\n",
            " 2.35030018e-01 4.21378480e-02 3.63138521e-02 1.34210680e-01\n",
            " 4.68329495e-02 1.06258410e-02]\n",
            "[0.00000000e+00 6.84341457e-01 4.06683502e-02 5.61416440e-02\n",
            " 3.72830437e-02 5.37293514e-02 8.90398433e-02 3.51080715e-02\n",
            " 3.68823910e-03 0.00000000e+00 6.19587872e-02 8.67734330e-01\n",
            " 7.33613371e-02 3.13179243e-02 2.06357117e-02 1.00000000e+00\n",
            " 0.00000000e+00 0.00000000e+00 0.00000000e+00 0.00000000e+00\n",
            " 0.00000000e+00 0.00000000e+00 0.00000000e+00 0.00000000e+00\n",
            " 0.00000000e+00 0.00000000e+00 0.00000000e+00 0.00000000e+00\n",
            " 0.00000000e+00 0.00000000e+00 6.80132509e-02 2.40067790e-01\n",
            " 2.62609045e-01 2.00040205e-01 1.77966610e-01 0.00000000e+00\n",
            " 1.32265670e-01 6.27046714e-01 9.45512619e-03 7.21551908e-02\n",
            " 1.82122510e-02 1.44886931e-01 7.51764198e-01 1.71066169e-02\n",
            " 4.24384817e-04 9.68825864e-03 4.67521300e-03 3.04328586e-04\n",
            " 7.34297413e-04 2.88553755e-03 4.73384511e-03 3.17548731e-02\n",
            " 2.39470301e-02 0.00000000e+00 1.87720481e-02 2.68167928e-01\n",
            " 3.71978876e-02 8.97582263e-01 4.81062526e-03 2.03983912e-02\n",
            " 2.36971456e-02 4.73230950e-02 2.09679603e-03 2.14719173e-02\n",
            " 6.36423664e-02 1.64093136e-01 5.54193522e-01 2.52737910e-01\n",
            " 2.02308709e-02 4.22011612e-03 3.42732619e-01 3.01646864e-01\n",
            " 2.59617412e-01 1.00000000e+00 8.72247606e-01 1.98553462e-02\n",
            " 1.30386651e-02 1.68833961e-01 1.31383397e-01 1.19888711e-01\n",
            " 1.32712391e-01 1.64457492e-01 2.21868103e-01 0.00000000e+00\n",
            " 9.82111622e-01 0.00000000e+00 7.19080984e-03 2.93160564e-05\n",
            " 6.70081289e-05 8.02282744e-03 4.65259775e-02 2.87827834e-02\n",
            " 4.39866486e-02 4.52346750e-02 3.52602358e-02 2.92812959e-01\n",
            " 2.12509301e-01 3.22965221e-02 2.75040449e-02 1.38501614e-01\n",
            " 4.77265398e-02 2.26473516e-02]\n",
            "[8.89971966e-01 7.17109420e-02 6.13091265e-03 7.34303386e-03\n",
            " 4.32697014e-03 4.07333244e-03 7.05913763e-03 1.92586660e-03\n",
            " 3.82592444e-03 5.11275753e-01 1.54784853e-01 8.80027589e-01\n",
            " 6.49205714e-02 2.81813732e-02 1.85235616e-02 6.57891692e-01\n",
            " 8.18786989e-02 4.81920527e-02 7.94028390e-02 5.73185600e-02\n",
            " 3.29284030e-02 1.74654029e-02 9.70408935e-03 5.58358920e-03\n",
            " 3.55804743e-03 2.14835580e-03 1.51381658e-03 8.72157700e-04\n",
            " 2.86290215e-02 3.92691674e-01 1.32782450e-01 4.09753927e-02\n",
            " 4.64886753e-02 3.72829618e-02 9.01730966e-02 1.63303520e-01\n",
            " 1.19972411e-01 2.63477951e-01 9.78382948e-02 2.79241757e-02\n",
            " 9.57237574e-03 9.98248565e-01 0.00000000e+00 8.89956837e-06\n",
            " 0.00000000e+00 2.66987051e-06 0.00000000e+00 0.00000000e+00\n",
            " 0.00000000e+00 0.00000000e+00 0.00000000e+00 1.24593957e-05\n",
            " 1.72295644e-03 5.11275753e-01 4.36078850e-05 6.66497575e-02\n",
            " 2.79713434e-03 9.24871624e-01 4.95972945e-03 1.97116540e-02\n",
            " 1.69527878e-02 2.92493214e-02 8.19650247e-04 2.72771771e-02\n",
            " 1.92819828e-01 1.83529569e-01 5.64274463e-01 2.25713523e-01\n",
            " 9.99751702e-01 3.29284030e-05 1.77101411e-04 2.22489209e-05\n",
            " 9.78952521e-06 4.22969786e-01 5.74527655e-01 2.12610688e-03\n",
            " 2.81315356e-03 9.99971521e-01 6.22969786e-06 3.55982735e-06\n",
            " 1.77991367e-06 4.44978419e-06 1.77991367e-06 5.11275753e-01\n",
            " 1.93654608e-03 9.77475192e-02 7.66644418e-02 3.40328394e-02\n",
            " 3.65567570e-02 1.47793352e-01 1.97687892e-01 5.02612023e-02\n",
            " 4.63916700e-02 3.36519379e-02 2.43661282e-02 1.38953411e-01\n",
            " 6.10234504e-02 7.66252837e-03 6.48956526e-03 2.82516798e-02\n",
            " 8.31486673e-03 3.09082010e-03]\n"
          ],
          "name": "stdout"
        }
      ]
    },
    {
      "cell_type": "code",
      "metadata": {
        "colab": {
          "base_uri": "https://localhost:8080/"
        },
        "id": "ootkWh-Esu8f",
        "outputId": "797076e3-41a6-446a-8b4f-f2c0f7b5daf7"
      },
      "source": [
        "# Evaluate clustering.\r\n",
        "bkm_cost = bkm_model.computeCost(df_cluster)\r\n",
        "print(\"Within Set Sum of Squared Errors = \" + str(bkm_cost))"
      ],
      "execution_count": null,
      "outputs": [
        {
          "output_type": "stream",
          "text": [
            "Within Set Sum of Squared Errors = 14254907.368693331\n"
          ],
          "name": "stdout"
        }
      ]
    },
    {
      "cell_type": "code",
      "metadata": {
        "id": "m3b7r0xo34Je"
      },
      "source": [
        " predictions = bkm_model.transform(df_cluster)"
      ],
      "execution_count": null,
      "outputs": []
    },
    {
      "cell_type": "code",
      "metadata": {
        "colab": {
          "base_uri": "https://localhost:8080/"
        },
        "id": "GvgE5HNcsww8",
        "outputId": "504ac795-fffd-416f-f352-0a3ec5c4a768"
      },
      "source": [
        "from pyspark.ml.evaluation import ClusteringEvaluator\r\n",
        "evaluator = ClusteringEvaluator()\r\n",
        "silhouette = evaluator.evaluate(predictions)\r\n",
        "print(silhouette)"
      ],
      "execution_count": null,
      "outputs": [
        {
          "output_type": "stream",
          "text": [
            "0.27255665727247474\n"
          ],
          "name": "stdout"
        }
      ]
    },
    {
      "cell_type": "code",
      "metadata": {
        "id": "2LG8wceX3dfC"
      },
      "source": [
        ""
      ],
      "execution_count": null,
      "outputs": []
    }
  ]
}